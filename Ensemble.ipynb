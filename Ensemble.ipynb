{
 "cells": [
  {
   "cell_type": "code",
   "execution_count": 1,
   "id": "98ed5ceb-49bd-46a1-b8fd-e3b2af33b8da",
   "metadata": {},
   "outputs": [
    {
     "data": {
      "text/plain": [
       "'/opt/ml/code'"
      ]
     },
     "execution_count": 1,
     "metadata": {},
     "output_type": "execute_result"
    }
   ],
   "source": [
    "import pandas as pd\n",
    "import numpy as np\n",
    "import os \n",
    "import glob\n",
    "import seaborn as sns\n",
    "import matplotlib.pyplot as plt\n",
    "os.getcwd()"
   ]
  },
  {
   "cell_type": "code",
   "execution_count": 2,
   "id": "a754739e-fa6d-4c58-9ef9-def1bf791820",
   "metadata": {},
   "outputs": [
    {
     "name": "stdout",
     "output_type": "stream",
     "text": [
      "['prediction/logits/13th_maxlength_200_KoElectra_zero70%25checkpoint-6000_logit.csv', 'prediction/logits/12th_maxlength_200_KoElectra_zero50%25step5500_logit.csv', 'prediction/logits/14th_binary_classifications_norelationVSrelationcheckpoint-5500_logit.csv', 'prediction/logits/9th_maxlength_200_KoElectra13epochs_logit.csv']\n"
     ]
    }
   ],
   "source": [
    "ensemble_files = glob.glob(\"prediction/logits/*.csv\")\n",
    "print(ensemble_files)"
   ]
  },
  {
   "cell_type": "markdown",
   "id": "10eecff7-8201-4885-86a2-f05a3598fa85",
   "metadata": {},
   "source": [
    "### 단순평균"
   ]
  },
  {
   "cell_type": "code",
   "execution_count": 28,
   "id": "71b50ae7-8ea1-4ade-9b38-b68b506b7381",
   "metadata": {},
   "outputs": [
    {
     "data": {
      "image/png": "[encoded data removed]",
      "text/plain": [
       "<Figure size 432x288 with 1 Axes>"
      ]
     },
     "metadata": {
      "needs_background": "light"
     },
     "output_type": "display_data"
    },
    {
     "name": "stdout",
     "output_type": "stream",
     "text": [
      "Counter({0: 419, 10: 117, 4: 78, 2: 59, 5: 37, 15: 37, 7: 25, 20: 25, 17: 24, 8: 20, 9: 20, 6: 17, 21: 16, 33: 14, 1: 12, 24: 12, 22: 11, 23: 9, 27: 8, 12: 6, 25: 6, 32: 6, 11: 5, 14: 5, 3: 4, 34: 3, 35: 2, 30: 2, 39: 1})\n"
     ]
    }
   ],
   "source": [
    "from collections import Counter\n",
    "\n",
    "res = pd.DataFrame(np.zeros((1000,42)))\n",
    "for f in ensemble_files:\n",
    "    if 'binary' in f:\n",
    "        continue\n",
    "    res += pd.read_csv(f).values\n",
    "sns.countplot(x = res.values.argmax(axis = -1))\n",
    "plt.title('soft ensemlbe')\n",
    "plt.show()\n",
    "print(Counter(res.values.argmax(axis = -1)))\n",
    "pd.DataFrame(res.values.argmax(axis=-1).flatten(), columns=['pred']).to_csv('./prediction/zeroratio_ensemble_simple_mean.csv', index=False)"
   ]
  },
  {
   "cell_type": "markdown",
   "id": "49cb7ae7-fc79-4846-804f-d7fa3d037b8c",
   "metadata": {},
   "source": [
    "### Softmax 평균"
   ]
  },
  {
   "cell_type": "code",
   "execution_count": 13,
   "id": "4eed98fb-205c-40fa-b1aa-ee8289828dea",
   "metadata": {},
   "outputs": [
    {
     "data": {
      "image/png": "[encoded data removed]",
      "text/plain": [
       "<Figure size 432x288 with 1 Axes>"
      ]
     },
     "metadata": {
      "needs_background": "light"
     },
     "output_type": "display_data"
    },
    {
     "name": "stdout",
     "output_type": "stream",
     "text": [
      "Counter({0: 404, 10: 119, 4: 84, 2: 59, 5: 40, 15: 35, 7: 28, 17: 27, 20: 26, 8: 21, 9: 21, 6: 18, 33: 14, 24: 13, 1: 12, 21: 12, 23: 10, 27: 8, 22: 8, 3: 7, 12: 6, 25: 6, 11: 5, 14: 5, 32: 4, 30: 3, 34: 3, 35: 1, 39: 1})\n"
     ]
    }
   ],
   "source": [
    "from scipy.special import softmax\n",
    "\n",
    "res = pd.DataFrame(np.zeros((1000,42)))\n",
    "for f in ensemble_files:\n",
    "    if 'binary' in f:\n",
    "        continue\n",
    "    res += softmax(pd.read_csv(f).values, axis = 1)\n",
    "sns.countplot(x = res.values.argmax(axis = -1))\n",
    "plt.title('softmax mean ensemble')\n",
    "plt.show()\n",
    "print(Counter(res.values.argmax(axis = -1)))"
   ]
  },
  {
   "cell_type": "markdown",
   "id": "778d5ab7-e3da-45d3-8d37-a80ff2acbe94",
   "metadata": {},
   "source": [
    "#### 데이터 %에 따른 가중평균"
   ]
  },
  {
   "cell_type": "code",
   "execution_count": 21,
   "id": "3cca6943-7f49-4ff3-a38c-89a26632dc29",
   "metadata": {},
   "outputs": [
    {
     "data": {
      "text/plain": [
       "0.5"
      ]
     },
     "execution_count": 21,
     "metadata": {},
     "output_type": "execute_result"
    }
   ],
   "source": [
    "import re \n",
    "per = re.compile('\\d+%')\n",
    "int(per.findall( ensemble_files[1] )[0][:2])* 0.01"
   ]
  },
  {
   "cell_type": "code",
   "execution_count": 22,
   "id": "52008824-dc58-4408-8882-2a80e4bb7cb3",
   "metadata": {},
   "outputs": [
    {
     "data": {
      "image/png": "[encoded data removed]",
      "text/plain": [
       "<Figure size 432x288 with 1 Axes>"
      ]
     },
     "metadata": {
      "needs_background": "light"
     },
     "output_type": "display_data"
    },
    {
     "name": "stdout",
     "output_type": "stream",
     "text": [
      "Counter({0: 439, 10: 115, 4: 76, 2: 59, 15: 33, 5: 32, 20: 26, 7: 24, 8: 21, 17: 20, 9: 18, 6: 17, 33: 14, 21: 14, 24: 13, 1: 10, 22: 10, 27: 8, 23: 8, 25: 8, 11: 6, 12: 5, 14: 5, 32: 5, 3: 4, 35: 3, 34: 3, 30: 2, 39: 1, 16: 1})\n"
     ]
    }
   ],
   "source": [
    "import re \n",
    "per = re.compile('\\d+%')\n",
    "per.findall( ensemble_files[3] )\n",
    "\n",
    "\n",
    "res = pd.DataFrame(np.zeros((1000,42)))\n",
    "for f in ensemble_files:\n",
    "    if 'binary' in f:\n",
    "        continue\n",
    "    p = per.findall(f)\n",
    "    if len(p) == 1:\n",
    "        w = int(p[0][:2]) * 0.01\n",
    "        res += pd.read_csv(f).values*w\n",
    "    else:\n",
    "        res += pd.read_csv(f).values\n",
    "sns.countplot(x = res.values.argmax(axis = -1))\n",
    "plt.title('softmax mean ensemble')\n",
    "plt.show()\n",
    "print(Counter(res.values.argmax(axis = -1)))"
   ]
  },
  {
   "cell_type": "code",
   "execution_count": 27,
   "id": "8dc3506d-f1ec-4331-a70f-0c39a4b01f8f",
   "metadata": {},
   "outputs": [],
   "source": [
    "pd.DataFrame(res.values.argmax(axis=-1).flatten(), columns=['pred']).to_csv('./prediction/zeroratio_ensemble_weighted_mean.csv', index=False)"
   ]
  },
  {
   "cell_type": "code",
   "execution_count": 43,
   "id": "08ea77e5-e097-43d3-abd1-3900c5cf7b98",
   "metadata": {},
   "outputs": [],
   "source": [
    "a = (pd.read_csv('prediction/6th_koelectra_basecheckpoint-5500.csv') == pd.read_csv(\"prediction/6th_koelectra_base_submission.csv\"))"
   ]
  },
  {
   "cell_type": "markdown",
   "id": "dc73acad-ec48-4571-9f8f-b46696e31bf7",
   "metadata": {},
   "source": [
    "### Ensemble_2\n",
    "\n",
    "- dir : prediction/logits/ensemble_2\n",
    "- 'prediction/logits/ensemble_2/10th_maxlength_150_KoElectra14500step_13epochs_logit.csv',\n",
    "- 'prediction/logits/ensemble_2/6th_koelectra_basecheckpoint-5500_logit.csv',\n",
    "- 'prediction/logits/ensemble_2/9th_maxlength_200_KoElectra13epochs_logit.csv'"
   ]
  },
  {
   "cell_type": "code",
   "execution_count": 7,
   "id": "42c7f446-4df9-4c33-b407-33cef0a4d018",
   "metadata": {},
   "outputs": [
    {
     "name": "stdout",
     "output_type": "stream",
     "text": [
      "['prediction/logits/ensemble_2/10th_maxlength_150_KoElectra14500step_13epochs_logit.csv', 'prediction/logits/ensemble_2/6th_koelectra_basecheckpoint-5500_logit.csv', 'prediction/logits/ensemble_2/9th_maxlength_200_KoElectra13epochs_logit.csv']\n"
     ]
    },
    {
     "data": {
      "image/png": "[encoded data removed]",
      "text/plain": [
       "<Figure size 432x288 with 1 Axes>"
      ]
     },
     "metadata": {
      "needs_background": "light"
     },
     "output_type": "display_data"
    },
    {
     "name": "stdout",
     "output_type": "stream",
     "text": [
      "Counter({0: 463, 10: 114, 4: 73, 2: 57, 15: 36, 5: 27, 20: 23, 7: 22, 17: 21, 8: 20, 6: 18, 9: 17, 21: 16, 33: 13, 23: 10, 24: 10, 25: 9, 27: 8, 32: 8, 22: 7, 1: 6, 14: 4, 11: 4, 35: 4, 12: 3, 34: 3, 30: 2, 39: 1, 3: 1})\n"
     ]
    }
   ],
   "source": [
    "ensemble_files = glob.glob(\"prediction/logits/ensemble_2/*.csv\")\n",
    "print(ensemble_files)\n",
    "\n",
    "from collections import Counter\n",
    "\n",
    "res = pd.DataFrame(np.zeros((1000,42)))\n",
    "for f in ensemble_files:\n",
    "    if 'binary' in f:\n",
    "        continue\n",
    "    res += pd.read_csv(f).values\n",
    "    \n",
    "sns.countplot(x = res.values.argmax(axis = -1))\n",
    "plt.title('soft ensemlbe')\n",
    "plt.show()\n",
    "print(Counter(res.values.argmax(axis = -1)))\n",
    "# pd.DataFrame(res.values.argmax(axis=-1).flatten(), columns=['pred']).to_csv('./prediction/ensemble_2.csv', index=False)"
   ]
  },
  {
   "cell_type": "markdown",
   "id": "8d08ee95-d68a-42a1-86d8-02f46b0e430b",
   "metadata": {},
   "source": [
    "<br></br>\n",
    "<br></br>\n",
    "\n",
    "### Binary + Ensemble"
   ]
  },
  {
   "cell_type": "code",
   "execution_count": 74,
   "id": "ccc8d0d9-ba9a-4175-adae-4a0323490fd6",
   "metadata": {},
   "outputs": [
    {
     "name": "stdout",
     "output_type": "stream",
     "text": [
      "['prediction/logits/ensemble_2/10th_maxlength_150_KoElectra14500step_13epochs_logit.csv', 'prediction/logits/ensemble_2/6th_koelectra_basecheckpoint-5500_logit.csv', 'prediction/logits/ensemble_2/9th_maxlength_200_KoElectra13epochs_logit.csv']\n"
     ]
    }
   ],
   "source": [
    "ensemble_files = glob.glob(\"prediction/logits/ensemble_2/*.csv\")\n",
    "print(ensemble_files)\n",
    "\n",
    "from collections import Counter\n",
    "\n",
    "res = pd.DataFrame(np.zeros((1000,42)))\n",
    "for f in ensemble_files:\n",
    "    if 'binary' in f:\n",
    "        continue\n",
    "    res += pd.read_csv(f).values\n",
    "    \n",
    "# sns.countplot(x = res.values.argmax(axis = -1))\n",
    "# plt.title('soft ensemlbe')\n",
    "# plt.show()\n",
    "# print(Counter(res.values.argmax(axis = -1)))"
   ]
  },
  {
   "cell_type": "code",
   "execution_count": 68,
   "id": "04547679-2c72-42de-855b-ddd42d462c17",
   "metadata": {},
   "outputs": [],
   "source": [
    "binary = pd.read_csv('./prediction/14th_binary_classifications_norelationVSrelationcheckpoint-5500.csv')"
   ]
  },
  {
   "cell_type": "code",
   "execution_count": 69,
   "id": "7453204f-d2ba-4423-833f-fa731e9cc771",
   "metadata": {},
   "outputs": [
    {
     "data": {
      "text/plain": [
       "0      1.8\n",
       "1      1.8\n",
       "2      1.8\n",
       "3      1.0\n",
       "4      1.0\n",
       "      ... \n",
       "995    1.0\n",
       "996    1.8\n",
       "997    1.8\n",
       "998    1.0\n",
       "999    1.0\n",
       "Name: pred, Length: 1000, dtype: float64"
      ]
     },
     "execution_count": 69,
     "metadata": {},
     "output_type": "execute_result"
    }
   ],
   "source": [
    "def weighted_label (data):\n",
    "    if data > 0:\n",
    "        return 1.8 # 비율설정 특정 index에 더 값을 곱한다..\n",
    "    else:\n",
    "        return 1\n",
    "binary.pred.map( weighted_label )"
   ]
  },
  {
   "cell_type": "code",
   "execution_count": 70,
   "id": "5ac3ff1a-35ce-47cf-8216-7485e4a4381f",
   "metadata": {},
   "outputs": [
    {
     "name": "stdout",
     "output_type": "stream",
     "text": [
      "Counter({0: 476, 10: 106, 4: 70, 2: 59, 15: 33, 5: 29, 8: 26, 17: 24, 7: 23, 20: 21, 9: 16, 6: 15, 33: 13, 24: 12, 23: 10, 27: 9, 1: 7, 21: 6, 25: 6, 35: 6, 22: 6, 32: 5, 14: 4, 30: 3, 12: 3, 34: 3, 3: 2, 39: 2, 28: 2, 11: 1, 19: 1, 16: 1})\n"
     ]
    }
   ],
   "source": [
    "min_one_df = res + abs(res.min())+1\n",
    "res = pd.concat([min_one_df.iloc[:,0] * binary.pred.map( weighted_label ), min_one_df.iloc[:,1:]], axis=1).values.argmax(axis=1)\n",
    "print(Counter(res))"
   ]
  },
  {
   "cell_type": "code",
   "execution_count": 71,
   "id": "c9fe89c1-8bed-4aa0-9168-3c159966e693",
   "metadata": {},
   "outputs": [
    {
     "data": {
      "text/html": [
       "<div>\n",
       "<style scoped>\n",
       "    .dataframe tbody tr th:only-of-type {\n",
       "        vertical-align: middle;\n",
       "    }\n",
       "\n",
       "    .dataframe tbody tr th {\n",
       "        vertical-align: top;\n",
       "    }\n",
       "\n",
       "    .dataframe thead th {\n",
       "        text-align: right;\n",
       "    }\n",
       "</style>\n",
       "<table border=\"1\" class=\"dataframe\">\n",
       "  <thead>\n",
       "    <tr style=\"text-align: right;\">\n",
       "      <th></th>\n",
       "      <th>pred</th>\n",
       "    </tr>\n",
       "  </thead>\n",
       "  <tbody>\n",
       "    <tr>\n",
       "      <th>0</th>\n",
       "      <td>5</td>\n",
       "    </tr>\n",
       "    <tr>\n",
       "      <th>1</th>\n",
       "      <td>10</td>\n",
       "    </tr>\n",
       "    <tr>\n",
       "      <th>2</th>\n",
       "      <td>1</td>\n",
       "    </tr>\n",
       "    <tr>\n",
       "      <th>3</th>\n",
       "      <td>17</td>\n",
       "    </tr>\n",
       "    <tr>\n",
       "      <th>4</th>\n",
       "      <td>0</td>\n",
       "    </tr>\n",
       "    <tr>\n",
       "      <th>...</th>\n",
       "      <td>...</td>\n",
       "    </tr>\n",
       "    <tr>\n",
       "      <th>995</th>\n",
       "      <td>0</td>\n",
       "    </tr>\n",
       "    <tr>\n",
       "      <th>996</th>\n",
       "      <td>10</td>\n",
       "    </tr>\n",
       "    <tr>\n",
       "      <th>997</th>\n",
       "      <td>10</td>\n",
       "    </tr>\n",
       "    <tr>\n",
       "      <th>998</th>\n",
       "      <td>0</td>\n",
       "    </tr>\n",
       "    <tr>\n",
       "      <th>999</th>\n",
       "      <td>4</td>\n",
       "    </tr>\n",
       "  </tbody>\n",
       "</table>\n",
       "<p>1000 rows × 1 columns</p>\n",
       "</div>"
      ],
      "text/plain": [
       "     pred\n",
       "0       5\n",
       "1      10\n",
       "2       1\n",
       "3      17\n",
       "4       0\n",
       "..    ...\n",
       "995     0\n",
       "996    10\n",
       "997    10\n",
       "998     0\n",
       "999     4\n",
       "\n",
       "[1000 rows x 1 columns]"
      ]
     },
     "execution_count": 71,
     "metadata": {},
     "output_type": "execute_result"
    }
   ],
   "source": [
    "pd.DataFrame(res.flatten(), columns=['pred'])"
   ]
  },
  {
   "cell_type": "code",
   "execution_count": null,
   "id": "b3cd8ad8-89e0-434d-b00e-a9f1ffa2c7c1",
   "metadata": {},
   "outputs": [],
   "source": [
    "pd.DataFrame(res.flatten(), columns=['pred']).to_csv('./prediction/ensemble_3.csv', index=False)"
   ]
  },
  {
   "cell_type": "markdown",
   "id": "bc8e7d86-928d-45a0-8c4e-eb45700756f0",
   "metadata": {},
   "source": [
    "<br></br>\n",
    "<br></br>\n",
    "\n",
    "### binary 기반 모두 예측"
   ]
  },
  {
   "cell_type": "code",
   "execution_count": 85,
   "id": "baea017d-f742-4613-86fd-60f79364e661",
   "metadata": {},
   "outputs": [
    {
     "name": "stdout",
     "output_type": "stream",
     "text": [
      "['prediction/logits/ensemble_2/10th_maxlength_150_KoElectra14500step_13epochs_logit.csv', 'prediction/logits/ensemble_2/6th_koelectra_basecheckpoint-5500_logit.csv', 'prediction/logits/ensemble_2/9th_maxlength_200_KoElectra13epochs_logit.csv']\n",
      "Counter({0: 488, 10: 111, 4: 69, 2: 55, 15: 37, 8: 27, 5: 24, 7: 22, 20: 21, 17: 19, 6: 16, 24: 14, 9: 13, 33: 12, 23: 11, 21: 9, 27: 9, 1: 8, 25: 7, 22: 7, 14: 4, 30: 3, 12: 3, 3: 2, 39: 2, 32: 2, 35: 2, 34: 1, 19: 1, 16: 1})\n"
     ]
    }
   ],
   "source": [
    "ensemble_files = glob.glob(\"prediction/logits/ensemble_2_3/*.csv\")\n",
    "print(ensemble_files)\n",
    "\n",
    "from collections import Counter\n",
    "\n",
    "res = pd.DataFrame(np.zeros((1000,42)))\n",
    "for f in ensemble_files:\n",
    "    if 'binary' in f:\n",
    "        continue\n",
    "    res += pd.read_csv(f).values\n",
    "    \n",
    "# sns.countplot(x = res.values.argmax(axis = -1))\n",
    "# plt.title('soft ensemlbe')\n",
    "# plt.show()\n",
    "# print(Counter(res.values.argmax(axis = -1)))\n",
    "\n",
    "binary = pd.read_csv('./prediction/14th_binary_classifications_norelationVSrelationcheckpoint-5500.csv')\n",
    "def weighted_label (data):\n",
    "    if data > 0:\n",
    "        return 1 # 비율설정 특정 index에 더 값을 곱한다..\n",
    "    else:\n",
    "        return 1.7\n",
    "min_one_df = res + abs(res.min())+1\n",
    "res = pd.concat([min_one_df.iloc[:,0] * binary.pred.map( weighted_label ), min_one_df.iloc[:,1:]], axis=1).values.argmax(axis=1)\n",
    "print(Counter(res))\n",
    "pd.DataFrame(res.flatten(), columns=['pred']).to_csv('./prediction/ensemble_3.csv', index=False)"
   ]
  },
  {
   "cell_type": "markdown",
   "id": "9652a265-f71a-463b-81d6-602d457abe8d",
   "metadata": {},
   "source": [
    "<br></br>\n",
    "<br></br>\n",
    "\n",
    "### Ensemble4"
   ]
  },
  {
   "cell_type": "code",
   "execution_count": 102,
   "id": "e8bf14a4-0817-47a9-9ec0-9bd93c08a6e9",
   "metadata": {},
   "outputs": [
    {
     "name": "stdout",
     "output_type": "stream",
     "text": [
      "['prediction/logits/ensemble_4/10th_maxlength_150_KoElectra14500step_13epochs_logit.csv', 'prediction/logits/ensemble_4/6th_koelectra_basecheckpoint-5500_logit.csv', 'prediction/logits/ensemble_4/20th_XlmRobert_large_maxlength20010epochs_logit.csv', 'prediction/logits/ensemble_4/9th_maxlength_200_KoElectra13epochs_logit.csv']\n",
      "Counter({0: 521, 10: 101, 4: 71, 2: 55, 15: 30, 8: 24, 7: 22, 20: 19, 17: 17, 6: 16, 5: 13, 21: 13, 24: 12, 9: 12, 33: 11, 23: 9, 27: 8, 1: 7, 22: 7, 12: 6, 25: 6, 14: 5, 30: 4, 3: 3, 11: 2, 39: 1, 34: 1, 28: 1, 19: 1, 16: 1, 32: 1})\n"
     ]
    }
   ],
   "source": [
    "ensemble_files = glob.glob(\"prediction/logits/ensemble_4/*.csv\")\n",
    "print(ensemble_files)\n",
    "\n",
    "from collections import Counter\n",
    "\n",
    "res = pd.DataFrame(np.zeros((1000,42)))\n",
    "for f in ensemble_files:\n",
    "    if 'binary' in f:\n",
    "        continue\n",
    "    res += pd.read_csv(f).values\n",
    "    \n",
    "# sns.countplot(x = res.values.argmax(axis = -1))\n",
    "# plt.title('soft ensemlbe')\n",
    "# plt.show()\n",
    "# print(Counter(res.values.argmax(axis = -1)))\n",
    "\n",
    "binary = pd.read_csv('./prediction/XLMRoberta_binary_classificationscheckpoint-2500.csv')\n",
    "def weighted_label (data):\n",
    "    if data > 0:\n",
    "        return 1 # 비율설정 특정 index에 더 값을 곱한다..\n",
    "    else:\n",
    "        return 1.9\n",
    "min_one_df = res + abs(res.min())+1\n",
    "res = pd.concat([min_one_df.iloc[:,0] * binary.pred.map( weighted_label ), min_one_df.iloc[:,1:]], axis=1).values.argmax(axis=1)\n",
    "print(Counter(res))\n",
    "pd.DataFrame(res.flatten(), columns=['pred']).to_csv('./prediction/ensemble_4.csv', index=False)"
   ]
  },
  {
   "cell_type": "markdown",
   "id": "3c3fe5b4-2f48-49ad-9d53-4409a006a682",
   "metadata": {},
   "source": [
    "<br></br>\n",
    "<br></br>\n",
    "\n",
    "### Ensemble5,6"
   ]
  },
  {
   "cell_type": "code",
   "execution_count": 147,
   "id": "d493e2df-7b00-45a7-ab96-971213e8e297",
   "metadata": {},
   "outputs": [
    {
     "name": "stdout",
     "output_type": "stream",
     "text": [
      "['prediction/logits/ensemble_5/20th_XlmRobert_large_maxlength20010epochs_logit.csv', 'prediction/logits/ensemble_5/22th_XlmRobert_large_maxlength15020epochs_logit.csv', 'prediction/logits/ensemble_5/9th_maxlength_200_KoElectra13epochs_logit.csv']\n",
      "Counter({0: 489, 10: 104, 4: 73, 2: 55, 15: 34, 5: 25, 7: 23, 8: 21, 20: 20, 17: 20, 6: 18, 33: 14, 21: 14, 9: 14, 24: 11, 27: 8, 22: 8, 1: 7, 23: 7, 12: 6, 25: 6, 14: 4, 11: 4, 32: 3, 3: 2, 35: 2, 30: 2, 39: 1, 34: 1, 28: 1, 19: 1, 16: 1, 38: 1})\n"
     ]
    }
   ],
   "source": [
    "ensemble_files = glob.glob(\"prediction/logits/ensemble_5/*.csv\")\n",
    "print(ensemble_files)\n",
    "\n",
    "from collections import Counter\n",
    "\n",
    "res = pd.DataFrame(np.zeros((1000,42)))\n",
    "for f in ensemble_files:\n",
    "    if 'binary' in f:\n",
    "        continue\n",
    "    res += pd.read_csv(f).values\n",
    "    \n",
    "# sns.countplot(x = res.values.argmax(axis = -1))\n",
    "# plt.title('soft ensemlbe')\n",
    "# plt.show()\n",
    "# print(Counter(res.values.argmax(axis = -1)))\n",
    "\n",
    "binary = pd.read_csv('./prediction/XLMRoberta_binary_classificationscheckpoint-2500.csv')\n",
    "def weighted_label (data):\n",
    "    if data > 0:\n",
    "        return 1 # 비율설정 특정 index에 더 값을 곱한다..\n",
    "    else:\n",
    "        return 1\n",
    "min_one_df = res + abs(res.min())+1\n",
    "res = pd.concat([min_one_df.iloc[:,0] * binary.pred.map( weighted_label ), min_one_df.iloc[:,1:]], axis=1).values.argmax(axis=1)\n",
    "print(Counter(res))\n",
    "pd.DataFrame(res.flatten(), columns=['pred']).to_csv('./prediction/ensemble_5.csv', index=False)"
   ]
  },
  {
   "cell_type": "code",
   "execution_count": 134,
   "id": "5d5b3a3d-15c6-4c62-b319-e2dc31eb9d08",
   "metadata": {},
   "outputs": [],
   "source": [
    "a = pd.read_csv('./prediction/23th_ensemble_5.csv')\n",
    "new = pd.read_csv('./prediction/ensemble_5.csv')"
   ]
  },
  {
   "cell_type": "code",
   "execution_count": 140,
   "id": "4cf8c49f-8155-47ff-a839-babd17498e43",
   "metadata": {},
   "outputs": [],
   "source": [
    "a = pd.read_csv('./prediction/9th_maxlength_200_KoElectra13epochs.csv')\n",
    "new = pd.read_csv('./prediction/22th_XlmRobert_large_maxlength15020epochs.csv')"
   ]
  },
  {
   "cell_type": "code",
   "execution_count": 141,
   "id": "aeb8ab2a-bb73-4972-9a79-35cbbaba32ce",
   "metadata": {},
   "outputs": [
    {
     "data": {
      "text/plain": [
       "array([801])"
      ]
     },
     "execution_count": 141,
     "metadata": {},
     "output_type": "execute_result"
    }
   ],
   "source": [
    "sum((a == new).values)"
   ]
  },
  {
   "cell_type": "markdown",
   "id": "02fe1c64-4813-441a-bb0a-d4821b9e6122",
   "metadata": {},
   "source": [
    "<br></br>\n",
    "<br></br>\n",
    "\n",
    "### Ensemble7 (6)"
   ]
  },
  {
   "cell_type": "code",
   "execution_count": 146,
   "id": "038577df-1dce-4170-a60c-2e01b5bbff59",
   "metadata": {},
   "outputs": [
    {
     "name": "stdout",
     "output_type": "stream",
     "text": [
      "['prediction/logits/ensemble_5/20th_XlmRobert_large_maxlength20010epochs_logit.csv', 'prediction/logits/ensemble_5/22th_XlmRobert_large_maxlength15020epochs_logit.csv']\n",
      "Counter({0: 535, 10: 97, 4: 65, 2: 50, 15: 36, 7: 22, 8: 21, 6: 17, 20: 15, 17: 15, 21: 14, 5: 14, 9: 13, 33: 10, 22: 10, 1: 9, 23: 8, 24: 8, 27: 6, 12: 6, 14: 6, 25: 6, 11: 4, 3: 2, 32: 2, 35: 2, 30: 2, 39: 1, 34: 1, 19: 1, 16: 1, 13: 1})\n"
     ]
    }
   ],
   "source": [
    "ensemble_files = glob.glob(\"prediction/logits/ensemble_5/*Xlm*.csv\")\n",
    "print(ensemble_files)\n",
    "\n",
    "from collections import Counter\n",
    "\n",
    "res = pd.DataFrame(np.zeros((1000,42)))\n",
    "for f in ensemble_files:\n",
    "    if 'binary' in f:\n",
    "        continue\n",
    "    res += pd.read_csv(f).values\n",
    "    \n",
    "# sns.countplot(x = res.values.argmax(axis = -1))\n",
    "# plt.title('soft ensemlbe')\n",
    "# plt.show()\n",
    "# print(Counter(res.values.argmax(axis = -1)))\n",
    "\n",
    "binary = pd.read_csv('./prediction/XLMRoberta_binary_classificationscheckpoint-2500.csv') \n",
    "# 3600 이 더많이 0으로 예측함\n",
    "def weighted_label (data):\n",
    "    if data > 0:\n",
    "        return 1 # 비율설정 특정 index에 더 값을 곱한다..\n",
    "    else:\n",
    "        return 1.5\n",
    "min_one_df = res + abs(res.min())+1\n",
    "res = pd.concat([min_one_df.iloc[:,0] * binary.pred.map( weighted_label ), min_one_df.iloc[:,1:]], axis=1).values.argmax(axis=1)\n",
    "print(Counter(res))\n",
    "pd.DataFrame(res.flatten(), columns=['pred']).to_csv('./prediction/ensemble_6.csv', index=False)"
   ]
  },
  {
   "cell_type": "code",
   "execution_count": 172,
   "id": "70e913e7-585a-4d6f-b8e8-6aa2c72ef89c",
   "metadata": {},
   "outputs": [
    {
     "name": "stdout",
     "output_type": "stream",
     "text": [
      "Counter({0: 535, 10: 97, 4: 65, 2: 50, 15: 36, 7: 22, 8: 21, 6: 17, 20: 15, 17: 15, 21: 14, 5: 14, 9: 13, 33: 10, 22: 10, 1: 9, 23: 8, 24: 8, 27: 6, 12: 6, 14: 6, 25: 6, 11: 4, 3: 2, 32: 2, 35: 2, 30: 2, 39: 1, 34: 1, 19: 1, 16: 1, 13: 1})\n"
     ]
    }
   ],
   "source": [
    "print(Counter(list(pd.read_csv('prediction/25th_ensemble_6.csv').pred.values)))"
   ]
  },
  {
   "cell_type": "markdown",
   "id": "cc37eae1-f58c-4cf8-8bfa-f0de0b743453",
   "metadata": {},
   "source": [
    "<br></br>\n",
    "<br></br>\n",
    "\n",
    "### Ensemble 8"
   ]
  },
  {
   "cell_type": "code",
   "execution_count": 183,
   "id": "d1fbbda0-5ad3-4c3a-8639-3355f92c240c",
   "metadata": {},
   "outputs": [
    {
     "name": "stdout",
     "output_type": "stream",
     "text": [
      "['prediction/logits/ensemble_test/XLMRoberta_ReduceSentenceQuery_Maxlength150checkpoint-2800_logit.csv', 'prediction/logits/ensemble_test/XLMRoberta_reduceSentence_Maxlength150checkpoint-2800_logit.csv', 'prediction/logits/ensemble_test/20th_XlmRobert_large_maxlength20010epochs_logit.csv', 'prediction/logits/ensemble_test/22th_XlmRobert_large_maxlength15020epochs_logit.csv']\n",
      "Counter({0: 546, 10: 93, 4: 63, 2: 52, 15: 35, 8: 22, 7: 21, 6: 17, 20: 16, 21: 16, 17: 14, 9: 12, 5: 12, 33: 10, 22: 9, 24: 9, 27: 7, 12: 7, 1: 6, 14: 6, 23: 5, 25: 4, 11: 4, 39: 2, 32: 2, 19: 2, 30: 2, 34: 1, 3: 1, 16: 1, 35: 1, 13: 1, 38: 1})\n"
     ]
    }
   ],
   "source": [
    "ensemble_files = glob.glob(\"prediction/logits/ensemble_8/*.csv\")\n",
    "print(ensemble_files)\n",
    "\n",
    "from collections import Counter\n",
    "\n",
    "res = pd.DataFrame(np.zeros((1000,42)))\n",
    "for f in ensemble_files:\n",
    "    if 'binary' in f:\n",
    "        continue\n",
    "    res += pd.read_csv(f).values\n",
    "    \n",
    "# sns.countplot(x = res.values.argmax(axis = -1))\n",
    "# plt.title('soft ensemlbe')\n",
    "# plt.show()\n",
    "# print(Counter(res.values.argmax(axis = -1)))\n",
    "\n",
    "binary = pd.read_csv('./prediction/XLMRoberta_binary_classificationscheckpoint-2500.csv') \n",
    "# 3600 이 더많이 0으로 예측함\n",
    "def weighted_label (data):\n",
    "    if data > 0:\n",
    "        return 1 # 비율설정 특정 index에 더 값을 곱한다..\n",
    "    else:\n",
    "        return 1.2\n",
    "min_one_df = res + abs(res.min())+1\n",
    "res = pd.concat([min_one_df.iloc[:,0] * binary.pred.map( weighted_label ), min_one_df.iloc[:,1:]], axis=1).values.argmax(axis=1)\n",
    "print(Counter(res))\n",
    "pd.DataFrame(res.flatten(), columns=['pred']).to_csv('./prediction/ensemble_8.csv', index=False)"
   ]
  },
  {
   "cell_type": "markdown",
   "id": "03379b97-e913-4dbb-9f71-1f5a7abba1c1",
   "metadata": {},
   "source": [
    "<br></br>\n",
    "<br></br>\n",
    "\n",
    "### Ensemble 9"
   ]
  },
  {
   "cell_type": "code",
   "execution_count": 368,
   "id": "691429e1-10dd-4a76-ba0b-30ca14304558",
   "metadata": {},
   "outputs": [
    {
     "name": "stdout",
     "output_type": "stream",
     "text": [
      "['prediction/logits/ensemble_9_10/XLMRoberta_ReduceSentenceQuery_Maxlength150checkpoint-2800_logit.csv', 'prediction/logits/ensemble_9_10/6th_koelectra_basecheckpoint-5500_logit.csv', 'prediction/logits/ensemble_9_10/XLMRoberta_reduceSentence_Maxlength150checkpoint-2800_logit.csv', 'prediction/logits/ensemble_9_10/20th_XlmRobert_large_maxlength20010epochs_logit.csv']\n",
      "Counter({0: 551, 10: 93, 4: 67, 2: 53, 15: 33, 8: 25, 7: 21, 21: 16, 17: 16, 6: 16, 20: 15, 9: 13, 5: 12, 33: 11, 22: 9, 27: 8, 24: 8, 12: 7, 23: 5, 1: 4, 14: 4, 11: 4, 25: 2, 39: 1, 30: 1, 34: 1, 3: 1, 19: 1, 16: 1, 32: 1})\n"
     ]
    }
   ],
   "source": [
    "ensemble_files = glob.glob(\"prediction/logits/ensemble_9_10/*.csv\")\n",
    "print(ensemble_files)\n",
    "\n",
    "from collections import Counter\n",
    "\n",
    "res = pd.DataFrame(np.zeros((1000,42)))\n",
    "for f in ensemble_files:\n",
    "    if 'binary' in f:\n",
    "        continue\n",
    "    res += pd.read_csv(f).values\n",
    "    \n",
    "# sns.countplot(x = res.values.argmax(axis = -1))\n",
    "# plt.title('soft ensemlbe')\n",
    "# plt.show()\n",
    "# print(Counter(res.values.argmax(axis = -1)))\n",
    "\n",
    "# binary = pd.read_csv('./prediction/XLMRoberta_binary_classificationscheckpoint-3600.csv')\n",
    "binary = pd.read_csv('./prediction/ensemble_binary.csv')\n",
    "# 3600 이 더많이 0으로 예측함\n",
    "def weighted_label (data):\n",
    "    if data > 0:\n",
    "        return 1 # 비율설정 특정 index에 더 값을 곱한다..\n",
    "    else:\n",
    "        return 1.3\n",
    "min_one_df = res + abs(res.min())+1\n",
    "res = pd.concat([min_one_df.iloc[:,0] * binary.pred.map( weighted_label ), min_one_df.iloc[:,1:]], axis=1).values.argmax(axis=1)\n",
    "print(Counter(res))\n",
    "# pd.DataFrame(res.flatten(), columns=['pred']).to_csv('./prediction/ensemble_9.csv', index=False)"
   ]
  },
  {
   "cell_type": "markdown",
   "id": "5421eb38-8017-46d7-a686-3942225ac9f0",
   "metadata": {},
   "source": [
    "<br></br>\n",
    "<br></br>\n",
    "\n",
    "### Ensemble_10"
   ]
  },
  {
   "cell_type": "code",
   "execution_count": 325,
   "id": "b8ea31a2-d6f1-4e1c-b609-2e0b3876714f",
   "metadata": {},
   "outputs": [
    {
     "name": "stdout",
     "output_type": "stream",
     "text": [
      "['prediction/logits/ensemble_9_10/XLMRoberta_ReduceSentenceQuery_Maxlength150checkpoint-2800_logit.csv', 'prediction/logits/ensemble_9_10/6th_koelectra_basecheckpoint-5500_logit.csv', 'prediction/logits/ensemble_9_10/XLMRoberta_reduceSentence_Maxlength150checkpoint-2800_logit.csv', 'prediction/logits/ensemble_9_10/20th_XlmRobert_large_maxlength20010epochs_logit.csv']\n",
      "Counter({0: 526, 10: 95, 4: 69, 2: 56, 15: 34, 8: 25, 7: 22, 17: 19, 5: 18, 20: 17, 21: 16, 6: 16, 9: 14, 33: 12, 22: 9, 27: 8, 24: 8, 12: 7, 1: 5, 23: 5, 14: 5, 11: 5, 25: 2, 39: 1, 30: 1, 34: 1, 3: 1, 19: 1, 16: 1, 32: 1})\n"
     ]
    }
   ],
   "source": [
    "ensemble_files = glob.glob(\"prediction/logits/ensemble_9_10/*.csv\")\n",
    "print(ensemble_files)\n",
    "\n",
    "from collections import Counter\n",
    "\n",
    "res = pd.DataFrame(np.zeros((1000,42)))\n",
    "for f in ensemble_files:\n",
    "    if 'binary' in f:\n",
    "        continue\n",
    "    res += pd.read_csv(f).values\n",
    "    \n",
    "    \n",
    "binary = pd.read_csv('./prediction/ensemble_binary.csv')\n",
    "# 3600 이 더많이 0으로 예측함\n",
    "def weighted_label (data):\n",
    "    if data > 0:\n",
    "        return 1 # 비율설정 특정 index에 더 값을 곱한다..\n",
    "    else:\n",
    "        return 1\n",
    "res = pd.concat([min_one_df.iloc[:,0] * binary.pred.map( weighted_label ), min_one_df.iloc[:,1:]], axis=1).values.argmax(axis=1)\n",
    "print(Counter(res))\n",
    "pd.DataFrame(res.flatten(), columns=['pred']).to_csv('./prediction/ensemble_10.csv', index=False)"
   ]
  },
  {
   "cell_type": "markdown",
   "id": "8677448a-91b8-4e18-b07a-29b0f9784f06",
   "metadata": {},
   "source": [
    "<br></br>\n",
    "<br></br>\n",
    "\n",
    "### Ensemble 11"
   ]
  },
  {
   "cell_type": "code",
   "execution_count": 326,
   "id": "22185d80-00f9-4332-8200-03e61826b51c",
   "metadata": {},
   "outputs": [
    {
     "name": "stdout",
     "output_type": "stream",
     "text": [
      "['prediction/logits/ensemble_9_10/XLMRoberta_ReduceSentenceQuery_Maxlength150checkpoint-2800_logit.csv', 'prediction/logits/ensemble_9_10/6th_koelectra_basecheckpoint-5500_logit.csv', 'prediction/logits/ensemble_9_10/XLMRoberta_reduceSentence_Maxlength150checkpoint-2800_logit.csv', 'prediction/logits/ensemble_9_10/20th_XlmRobert_large_maxlength20010epochs_logit.csv']\n",
      "Counter({0: 537, 10: 94, 4: 68, 2: 55, 15: 33, 8: 25, 7: 22, 17: 18, 20: 17, 21: 16, 6: 16, 5: 14, 9: 13, 33: 11, 22: 9, 27: 8, 24: 8, 12: 7, 1: 5, 23: 5, 14: 5, 11: 5, 25: 2, 39: 1, 30: 1, 34: 1, 3: 1, 19: 1, 16: 1, 32: 1})\n"
     ]
    }
   ],
   "source": [
    "ensemble_files = glob.glob(\"prediction/logits/ensemble_9_10/*.csv\")\n",
    "print(ensemble_files)\n",
    "\n",
    "from collections import Counter\n",
    "\n",
    "res = pd.DataFrame(np.zeros((1000,42)))\n",
    "for f in ensemble_files:\n",
    "    if 'binary' in f:\n",
    "        continue\n",
    "    res += pd.read_csv(f).values\n",
    "    \n",
    "# sns.countplot(x = res.values.argmax(axis = -1))\n",
    "# plt.title('soft ensemlbe')\n",
    "# plt.show()\n",
    "# print(Counter(res.values.argmax(axis = -1)))\n",
    "\n",
    "# binary = pd.read_csv('./prediction/XLMRoberta_binary_classificationscheckpoint-3600.csv')\n",
    "binary = pd.read_csv('./prediction/ensemble_binary.csv')\n",
    "# 3600 이 더많이 0으로 예측함\n",
    "def weighted_label (data):\n",
    "    if data > 0:\n",
    "        return 1 # 비율설정 특정 index에 더 값을 곱한다..\n",
    "    else:\n",
    "        return 1.1\n",
    "# min_one_df = res + abs(res.min())+1\n",
    "res = pd.concat([min_one_df.iloc[:,0] * binary.pred.map( weighted_label ), min_one_df.iloc[:,1:]], axis=1).values.argmax(axis=1)\n",
    "# res = res.values.argmax(axis=1)\n",
    "print(Counter(res))\n",
    "pd.DataFrame(res.flatten(), columns=['pred']).to_csv('./prediction/ensemble_11.csv', index=False)"
   ]
  },
  {
   "cell_type": "markdown",
   "id": "a8a0d010-47ea-4d5a-88b9-8c5444a6d3ed",
   "metadata": {},
   "source": [
    "<br></br>\n",
    "<br></br>\n",
    "\n",
    "### Ensemble 12"
   ]
  },
  {
   "cell_type": "code",
   "execution_count": 338,
   "id": "672e9fa4-fdf5-4889-8fe8-e0e227ab389c",
   "metadata": {},
   "outputs": [
    {
     "name": "stdout",
     "output_type": "stream",
     "text": [
      "['prediction/logits/ensemble_9_10/XLMRoberta_ReduceSentenceQuery_Maxlength150checkpoint-2800_logit.csv', 'prediction/logits/ensemble_9_10/6th_koelectra_basecheckpoint-5500_logit.csv', 'prediction/logits/ensemble_9_10/XLMRoberta_reduceSentence_Maxlength150checkpoint-2800_logit.csv', 'prediction/logits/ensemble_9_10/20th_XlmRobert_large_maxlength20010epochs_logit.csv']\n",
      "Counter({0: 566, 10: 91, 4: 65, 2: 52, 15: 32, 8: 25, 7: 21, 21: 16, 6: 16, 20: 15, 17: 14, 9: 13, 33: 11, 5: 9, 27: 8, 24: 8, 12: 7, 22: 7, 1: 4, 14: 4, 11: 4, 23: 3, 25: 2, 39: 1, 30: 1, 34: 1, 3: 1, 19: 1, 16: 1, 32: 1})\n"
     ]
    }
   ],
   "source": [
    "ensemble_files = glob.glob(\"prediction/logits/ensemble_9_10/*.csv\")\n",
    "print(ensemble_files)\n",
    "\n",
    "from collections import Counter\n",
    "\n",
    "res = pd.DataFrame(np.zeros((1000,42)))\n",
    "for f in ensemble_files:\n",
    "    if 'binary' in f:\n",
    "        continue\n",
    "    res += pd.read_csv(f).values\n",
    "    \n",
    "# sns.countplot(x = res.values.argmax(axis = -1))\n",
    "# plt.title('soft ensemlbe')\n",
    "# plt.show()\n",
    "# print(Counter(res.values.argmax(axis = -1)))\n",
    "\n",
    "# binary = pd.read_csv('./prediction/XLMRoberta_binary_classificationscheckpoint-3600.csv')\n",
    "binary = pd.read_csv('./prediction/hard_ensemble_binary.csv')\n",
    "# 3600 이 더많이 0으로 예측함\n",
    "def weighted_label (data):\n",
    "    if data > 0:\n",
    "        return 1 # 비율설정 특정 index에 더 값을 곱한다..\n",
    "    else:\n",
    "        return 2\n",
    "# min_one_df = res + abs(res.min())+1\n",
    "res = pd.concat([min_one_df.iloc[:,0] * binary.pred.map( weighted_label ), min_one_df.iloc[:,1:]], axis=1).values.argmax(axis=1)\n",
    "# res = res.values.argmax(axis=1)\n",
    "print(Counter(res))\n",
    "# pd.DataFrame(res.flatten(), columns=['pred']).to_csv('./prediction/ensemble_11.csv', index=False)"
   ]
  },
  {
   "cell_type": "markdown",
   "id": "77fcf5ec-60b1-45b3-9814-7b146d0f8ae7",
   "metadata": {},
   "source": [
    "<br></br>\n",
    "<br></br>\n",
    "\n",
    "### Binary Ensemble"
   ]
  },
  {
   "cell_type": "code",
   "execution_count": 222,
   "id": "b6c4ad03-ca3f-4a6b-8f0f-e924730eba41",
   "metadata": {},
   "outputs": [
    {
     "name": "stdout",
     "output_type": "stream",
     "text": [
      "['prediction/logits/binary/XLMRoberta_Binary_ReduceSentenceQuery_Maxlength150checkpoint-2200_logit.csv', 'prediction/logits/binary/XLMRoberta_Binary_ReduceSentenceQuery_Maxlength150checkpoint-2800_logit.csv', 'prediction/logits/binary/XLMRoberta_binary_classificationscheckpoint-2500_logit.csv', 'prediction/logits/binary/XLMRoberta_binary_classificationscheckpoint-3600_logit.csv']\n",
      "4\n",
      "Counter({1: 507, 0: 493})\n"
     ]
    }
   ],
   "source": [
    "ensemble_files = glob.glob(\"prediction/logits/binary/*.csv\")\n",
    "print(ensemble_files)\n",
    "print(len(ensemble_files))\n",
    "\n",
    "from collections import Counter\n",
    "\n",
    "res = pd.DataFrame(np.zeros((1000,2)))\n",
    "for f in ensemble_files:\n",
    "    res += pd.read_csv(f).values\n",
    "    \n",
    "# sns.countplot(x = res.values.argmax(axis = -1))\n",
    "# plt.title('soft ensemlbe')\n",
    "# plt.show()\n",
    "# print(Counter(res.values.argmax(axis = -1)))\n",
    "\n",
    "# binary = pd.read_csv('./prediction/XLMRoberta_binary_classificationscheckpoint-3600.csv')\n",
    "binary = pd.read_csv('./prediction/XLMRoberta_binary_classificationscheckpoint-3600.csv')\n",
    "# 3600 이 더많이 0으로 예측함\n",
    "def weighted_label (data):\n",
    "    if data > 0:\n",
    "        return 1 # 비율설정 특정 index에 더 값을 곱한다..\n",
    "    else:\n",
    "        return 1\n",
    "min_one_df = res + abs(res.min())+1\n",
    "\n",
    "\n",
    "res = pd.concat([min_one_df.iloc[:,0] * binary.pred.map( weighted_label ), min_one_df.iloc[:,1:]], axis=1).values.argmax(axis=1)\n",
    "print(Counter(res))\n",
    "pd.DataFrame(res.flatten(), columns=['pred']).to_csv('./prediction/ensemble_binary.csv', index=False)"
   ]
  },
  {
   "cell_type": "markdown",
   "id": "307e6479-4ba8-4ffb-8b18-0f752c9b1440",
   "metadata": {},
   "source": [
    "<br></br>\n",
    "<br></br>\n",
    "\n",
    "### Hard Voting!!\n",
    "  \n",
    "- binary "
   ]
  },
  {
   "cell_type": "code",
   "execution_count": 295,
   "id": "e3d9ad9c-2f45-4ba2-903f-a967963a558f",
   "metadata": {},
   "outputs": [],
   "source": [
    "def get_onehot_vector(f, label=2):\n",
    "    res = []\n",
    "    for v in pd.read_csv(f).pred.values:\n",
    "        a = [0]*label\n",
    "        a[v] = 1\n",
    "        res.append(a)\n",
    "    res = np.asarray(res)\n",
    "    return res"
   ]
  },
  {
   "cell_type": "code",
   "execution_count": 333,
   "id": "e153dae5-e65b-496b-b998-117f08315895",
   "metadata": {},
   "outputs": [
    {
     "name": "stdout",
     "output_type": "stream",
     "text": [
      "['prediction/XLMRoberta_Binary_ReduceSentenceQuery_Maxlength150checkpoint-2200.csv', 'prediction/XLMRoberta_Binary_ReduceSentenceQuery_Maxlength150checkpoint-2800.csv', 'prediction/XLMRoberta_binary_classificationscheckpoint-2500.csv', 'prediction/XLMRoberta_binary_classificationscheckpoint-3600.csv']\n"
     ]
    }
   ],
   "source": [
    "binary = glob.glob('prediction/XLM*inary*.csv')\n",
    "print(binary)\n",
    "res = np.zeros((1000,2))\n",
    "for f in binary:\n",
    "    res += get_onehot_vector(f)\n",
    "pd.DataFrame({\"pred\":res.argmax(axis=1)}).to_csv('./prediction/hard_ensemble_binary.csv', index = False)"
   ]
  },
  {
   "cell_type": "markdown",
   "id": "5470e762-5b17-4e4a-adf6-5171b6c3d92c",
   "metadata": {},
   "source": [
    "- labeling"
   ]
  },
  {
   "cell_type": "code",
   "execution_count": 332,
   "id": "688537cf-9d38-4aa6-a015-3f0eae8ad77f",
   "metadata": {},
   "outputs": [
    {
     "name": "stdout",
     "output_type": "stream",
     "text": [
      "Counter({0: 548, 10: 93, 4: 64, 2: 52, 15: 33, 7: 22, 8: 22, 6: 17, 20: 16, 21: 16, 17: 14, 9: 14, 5: 12, 33: 10, 22: 9, 24: 9, 27: 7, 12: 7, 1: 6, 14: 6, 23: 5, 11: 5, 30: 3, 25: 3, 3: 2, 39: 1, 34: 1, 19: 1, 16: 1, 32: 1})\n"
     ]
    }
   ],
   "source": [
    "files = glob.glob('prediction/hard_voting/*.csv')\n",
    "res = np.zeros((1000,42))\n",
    "for f in files:\n",
    "    res += get_onehot_vector(f, label=42)\n",
    "print(Counter(res.argmax(axis=1)))\n",
    "pd.DataFrame({\"pred\":res.argmax(axis=1)}).to_csv('./prediction/hard_ensemble_1.csv', index = False)"
   ]
  },
  {
   "cell_type": "code",
   "execution_count": null,
   "id": "878d9906-d0ef-4fa4-8b1a-97993a631c76",
   "metadata": {},
   "outputs": [],
   "source": []
  }
 ],
 "metadata": {
  "kernelspec": {
   "display_name": "Python 3",
   "language": "python",
   "name": "python3"
  },
  "language_info": {
   "codemirror_mode": {
    "name": "ipython",
    "version": 3
   },
   "file_extension": ".py",
   "mimetype": "text/x-python",
   "name": "python",
   "nbconvert_exporter": "python",
   "pygments_lexer": "ipython3",
   "version": "3.7.7"
  }
 },
 "nbformat": 4,
 "nbformat_minor": 5
}
