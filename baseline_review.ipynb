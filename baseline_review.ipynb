{
 "cells": [
  {
   "cell_type": "code",
   "execution_count": 1,
   "id": "07d541e6-5811-438f-85af-f81bf808aa0f",
   "metadata": {},
   "outputs": [],
   "source": [
    "import load_data\n",
    "\n",
    "import os\n",
    "\n",
    "from sklearn.metrics import accuracy_score\n",
    "from transformers import AutoTokenizer, BertForSequenceClassification, Trainer, TrainingArguments, BertConfig"
   ]
  },
  {
   "cell_type": "code",
   "execution_count": 2,
   "id": "baeab1f4-ae71-4cc3-87b4-d0e2b2e8e394",
   "metadata": {},
   "outputs": [
    {
     "data": {
      "text/plain": [
       "'/opt/ml/code'"
      ]
     },
     "execution_count": 2,
     "metadata": {},
     "output_type": "execute_result"
    }
   ],
   "source": [
    "os.getcwd()"
   ]
  },
  {
   "cell_type": "code",
   "execution_count": 3,
   "id": "b3e06996-df56-417e-9b84-6bc4693af0ba",
   "metadata": {},
   "outputs": [],
   "source": [
    "# 나름의 전처리가 된 상황\n",
    "dataset = load_data.load_data(\"../input/data/train/train.tsv\")"
   ]
  },
  {
   "cell_type": "code",
   "execution_count": 4,
   "id": "100c8c68-1ac1-4899-8fba-8561232a14b8",
   "metadata": {},
   "outputs": [],
   "source": [
    "MODEL_NAME = \"monologg/koelectra-base-v3-discriminator\"\n",
    "tokenizer = AutoTokenizer.from_pretrained(MODEL_NAME)"
   ]
  },
  {
   "cell_type": "code",
   "execution_count": 5,
   "id": "e739879d-d0c2-42fa-a9cf-9723ad0227c7",
   "metadata": {},
   "outputs": [],
   "source": [
    "tokenize_sententce = load_data.tokenized_dataset(dataset, tokenizer)"
   ]
  },
  {
   "cell_type": "code",
   "execution_count": 6,
   "id": "3151a335-563d-4ae8-a61c-733e1f577ca1",
   "metadata": {},
   "outputs": [
    {
     "name": "stdout",
     "output_type": "stream",
     "text": [
      "dict_keys(['input_ids', 'token_type_ids', 'attention_mask'])\n"
     ]
    }
   ],
   "source": [
    "print(tokenize_sententce.keys())"
   ]
  },
  {
   "cell_type": "code",
   "execution_count": 7,
   "id": "08995156-8c97-4a23-9e35-3281cb86b3fc",
   "metadata": {},
   "outputs": [],
   "source": [
    "concat_entity = []\n",
    "for e01, e02 in zip(dataset['entity_01'], dataset['entity_02']):\n",
    "    temp = ''\n",
    "    temp = e01 + '[SEP]' + e02\n",
    "    concat_entity.append(temp)"
   ]
  },
  {
   "cell_type": "code",
   "execution_count": 8,
   "id": "730d0fae-08ff-42f9-9033-175002a02fc2",
   "metadata": {},
   "outputs": [
    {
     "data": {
      "text/html": [
       "<div>\n",
       "<style scoped>\n",
       "    .dataframe tbody tr th:only-of-type {\n",
       "        vertical-align: middle;\n",
       "    }\n",
       "\n",
       "    .dataframe tbody tr th {\n",
       "        vertical-align: top;\n",
       "    }\n",
       "\n",
       "    .dataframe thead th {\n",
       "        text-align: right;\n",
       "    }\n",
       "</style>\n",
       "<table border=\"1\" class=\"dataframe\">\n",
       "  <thead>\n",
       "    <tr style=\"text-align: right;\">\n",
       "      <th></th>\n",
       "      <th>sentence</th>\n",
       "      <th>entity_01</th>\n",
       "      <th>entity_02</th>\n",
       "      <th>label</th>\n",
       "    </tr>\n",
       "  </thead>\n",
       "  <tbody>\n",
       "    <tr>\n",
       "      <th>0</th>\n",
       "      <td>영국에서 사용되는 스포츠 유틸리티 자동차의 브랜드로는 랜드로버(Land Rover)...</td>\n",
       "      <td>랜드로버</td>\n",
       "      <td>자동차</td>\n",
       "      <td>17</td>\n",
       "    </tr>\n",
       "    <tr>\n",
       "      <th>1</th>\n",
       "      <td>선거에서 민주당은 해산 전 의석인 230석에 한참 못 미치는 57석(지역구 27석,...</td>\n",
       "      <td>민주당</td>\n",
       "      <td>27석</td>\n",
       "      <td>0</td>\n",
       "    </tr>\n",
       "    <tr>\n",
       "      <th>2</th>\n",
       "      <td>유럽 축구 연맹(UEFA) 집행위원회는 2014년 1월 24일에 열린 회의를 통해 ...</td>\n",
       "      <td>유럽 축구 연맹</td>\n",
       "      <td>UEFA</td>\n",
       "      <td>6</td>\n",
       "    </tr>\n",
       "    <tr>\n",
       "      <th>3</th>\n",
       "      <td>용병 공격수 챠디의 부진과 시즌 초 활약한 강수일의 침체, 시즌 중반에 영입한 세르...</td>\n",
       "      <td>강수일</td>\n",
       "      <td>공격수</td>\n",
       "      <td>2</td>\n",
       "    </tr>\n",
       "    <tr>\n",
       "      <th>4</th>\n",
       "      <td>람캄행 왕은 1237년에서 1247년 사이 수코타이의 왕 퍼쿤 씨 인트라팃과 쓰엉 ...</td>\n",
       "      <td>람캄행</td>\n",
       "      <td>퍼쿤 씨 인트라팃</td>\n",
       "      <td>8</td>\n",
       "    </tr>\n",
       "  </tbody>\n",
       "</table>\n",
       "</div>"
      ],
      "text/plain": [
       "                                            sentence entity_01  entity_02  \\\n",
       "0  영국에서 사용되는 스포츠 유틸리티 자동차의 브랜드로는 랜드로버(Land Rover)...      랜드로버        자동차   \n",
       "1  선거에서 민주당은 해산 전 의석인 230석에 한참 못 미치는 57석(지역구 27석,...       민주당        27석   \n",
       "2  유럽 축구 연맹(UEFA) 집행위원회는 2014년 1월 24일에 열린 회의를 통해 ...  유럽 축구 연맹       UEFA   \n",
       "3  용병 공격수 챠디의 부진과 시즌 초 활약한 강수일의 침체, 시즌 중반에 영입한 세르...       강수일        공격수   \n",
       "4  람캄행 왕은 1237년에서 1247년 사이 수코타이의 왕 퍼쿤 씨 인트라팃과 쓰엉 ...       람캄행  퍼쿤 씨 인트라팃   \n",
       "\n",
       "   label  \n",
       "0     17  \n",
       "1      0  \n",
       "2      6  \n",
       "3      2  \n",
       "4      8  "
      ]
     },
     "execution_count": 8,
     "metadata": {},
     "output_type": "execute_result"
    }
   ],
   "source": [
    "dataset.head()"
   ]
  },
  {
   "cell_type": "code",
   "execution_count": 9,
   "id": "7366742b-c187-46d9-9c65-08dbafa86152",
   "metadata": {},
   "outputs": [
    {
     "data": {
      "text/plain": [
       "['랜드로버[SEP]자동차',\n",
       " '민주당[SEP]27석',\n",
       " '유럽 축구 연맹[SEP]UEFA',\n",
       " '강수일[SEP]공격수',\n",
       " '람캄행[SEP]퍼쿤 씨 인트라팃',\n",
       " 'OIE[SEP]전문가',\n",
       " '기아자동차[SEP]K5',\n",
       " '나고야 그램퍼스[SEP]토요타 자동차',\n",
       " '조선대학교[SEP]조영주',\n",
       " '삼성SDS[SEP]10%']"
      ]
     },
     "execution_count": 9,
     "metadata": {},
     "output_type": "execute_result"
    }
   ],
   "source": [
    "concat_entity[:10]"
   ]
  },
  {
   "cell_type": "markdown",
   "id": "8830b84b-08ff-47a0-8777-5c80a7004025",
   "metadata": {},
   "source": [
    "<br></br>\n",
    "<br></br>\n",
    "### Tokenizer"
   ]
  },
  {
   "cell_type": "code",
   "execution_count": 10,
   "id": "a49a4269-d095-4886-a4a9-78f5c112f867",
   "metadata": {},
   "outputs": [
    {
     "data": {
      "text/plain": [
       "2"
      ]
     },
     "execution_count": 10,
     "metadata": {},
     "output_type": "execute_result"
    }
   ],
   "source": [
    "tokenizer.add_special_tokens({'additional_special_tokens': [\"[ENT1]\", \"[ENT2]\"]})"
   ]
  },
  {
   "cell_type": "code",
   "execution_count": 11,
   "id": "b704ecdf-8ab1-44c1-adc3-bf4c2927b88c",
   "metadata": {},
   "outputs": [
    {
     "data": {
      "text/html": [
       "<div>\n",
       "<style scoped>\n",
       "    .dataframe tbody tr th:only-of-type {\n",
       "        vertical-align: middle;\n",
       "    }\n",
       "\n",
       "    .dataframe tbody tr th {\n",
       "        vertical-align: top;\n",
       "    }\n",
       "\n",
       "    .dataframe thead th {\n",
       "        text-align: right;\n",
       "    }\n",
       "</style>\n",
       "<table border=\"1\" class=\"dataframe\">\n",
       "  <thead>\n",
       "    <tr style=\"text-align: right;\">\n",
       "      <th></th>\n",
       "      <th>0</th>\n",
       "      <th>1</th>\n",
       "      <th>2</th>\n",
       "      <th>3</th>\n",
       "      <th>4</th>\n",
       "      <th>5</th>\n",
       "      <th>6</th>\n",
       "      <th>7</th>\n",
       "      <th>8</th>\n",
       "    </tr>\n",
       "  </thead>\n",
       "  <tbody>\n",
       "    <tr>\n",
       "      <th>0</th>\n",
       "      <td>wikipedia-24896-25-30-33-19-21</td>\n",
       "      <td>영국에서 사용되는 스포츠 유틸리티 자동차의 브랜드로는 랜드로버(Land Rover)...</td>\n",
       "      <td>랜드로버</td>\n",
       "      <td>30</td>\n",
       "      <td>33</td>\n",
       "      <td>자동차</td>\n",
       "      <td>19</td>\n",
       "      <td>21</td>\n",
       "      <td>단체:제작</td>\n",
       "    </tr>\n",
       "    <tr>\n",
       "      <th>1</th>\n",
       "      <td>wikipedia-12728-224-5-7-42-44</td>\n",
       "      <td>선거에서 민주당은 해산 전 의석인 230석에 한참 못 미치는 57석(지역구 27석,...</td>\n",
       "      <td>민주당</td>\n",
       "      <td>5</td>\n",
       "      <td>7</td>\n",
       "      <td>27석</td>\n",
       "      <td>42</td>\n",
       "      <td>44</td>\n",
       "      <td>관계_없음</td>\n",
       "    </tr>\n",
       "    <tr>\n",
       "      <th>2</th>\n",
       "      <td>wikipedia-28460-3-0-7-9-12</td>\n",
       "      <td>유럽 축구 연맹(UEFA) 집행위원회는 2014년 1월 24일에 열린 회의를 통해 ...</td>\n",
       "      <td>유럽 축구 연맹</td>\n",
       "      <td>0</td>\n",
       "      <td>7</td>\n",
       "      <td>UEFA</td>\n",
       "      <td>9</td>\n",
       "      <td>12</td>\n",
       "      <td>단체:별칭</td>\n",
       "    </tr>\n",
       "    <tr>\n",
       "      <th>3</th>\n",
       "      <td>wikipedia-11479-37-24-26-3-5</td>\n",
       "      <td>용병 공격수 챠디의 부진과 시즌 초 활약한 강수일의 침체, 시즌 중반에 영입한 세르...</td>\n",
       "      <td>강수일</td>\n",
       "      <td>24</td>\n",
       "      <td>26</td>\n",
       "      <td>공격수</td>\n",
       "      <td>3</td>\n",
       "      <td>5</td>\n",
       "      <td>인물:직업/직함</td>\n",
       "    </tr>\n",
       "    <tr>\n",
       "      <th>4</th>\n",
       "      <td>wikipedia-15581-6-0-2-32-40</td>\n",
       "      <td>람캄행 왕은 1237년에서 1247년 사이 수코타이의 왕 퍼쿤 씨 인트라팃과 쓰엉 ...</td>\n",
       "      <td>람캄행</td>\n",
       "      <td>0</td>\n",
       "      <td>2</td>\n",
       "      <td>퍼쿤 씨 인트라팃</td>\n",
       "      <td>32</td>\n",
       "      <td>40</td>\n",
       "      <td>인물:부모님</td>\n",
       "    </tr>\n",
       "    <tr>\n",
       "      <th>...</th>\n",
       "      <td>...</td>\n",
       "      <td>...</td>\n",
       "      <td>...</td>\n",
       "      <td>...</td>\n",
       "      <td>...</td>\n",
       "      <td>...</td>\n",
       "      <td>...</td>\n",
       "      <td>...</td>\n",
       "      <td>...</td>\n",
       "    </tr>\n",
       "    <tr>\n",
       "      <th>8995</th>\n",
       "      <td>wikipedia-5414-12-15-21-0-4</td>\n",
       "      <td>2002년 FIFA 월드컵 사우디아라비아와의 1차전에서 독일은 8-0으로 승리하였는...</td>\n",
       "      <td>사우디아라비아</td>\n",
       "      <td>15</td>\n",
       "      <td>21</td>\n",
       "      <td>2002년</td>\n",
       "      <td>0</td>\n",
       "      <td>4</td>\n",
       "      <td>관계_없음</td>\n",
       "    </tr>\n",
       "    <tr>\n",
       "      <th>8996</th>\n",
       "      <td>wikipedia-10384-4-12-14-0-1</td>\n",
       "      <td>일본의 2대 메이커인 토요타와 닛산은 시장 점유율을 높이기 위한 신차 개발을 계속하...</td>\n",
       "      <td>토요타</td>\n",
       "      <td>12</td>\n",
       "      <td>14</td>\n",
       "      <td>일본</td>\n",
       "      <td>0</td>\n",
       "      <td>1</td>\n",
       "      <td>단체:본사_국가</td>\n",
       "    </tr>\n",
       "    <tr>\n",
       "      <th>8997</th>\n",
       "      <td>wikipedia-25913-6-8-10-93-106</td>\n",
       "      <td>방호의의 손자 방덕룡(方德龍)은 1588년(선조 21년) 무과에 급제하고 낙안군수로...</td>\n",
       "      <td>방덕룡</td>\n",
       "      <td>8</td>\n",
       "      <td>10</td>\n",
       "      <td>선무원종공신(宣武原從功臣)</td>\n",
       "      <td>93</td>\n",
       "      <td>106</td>\n",
       "      <td>인물:직업/직함</td>\n",
       "    </tr>\n",
       "    <tr>\n",
       "      <th>8998</th>\n",
       "      <td>wikitree-12062-15-0-3-46-47</td>\n",
       "      <td>LG전자는 올해 초 국내시장에 출시한 2020년형 ‘LG 그램’ 시리즈를 이달부터 ...</td>\n",
       "      <td>LG전자</td>\n",
       "      <td>0</td>\n",
       "      <td>3</td>\n",
       "      <td>북미</td>\n",
       "      <td>46</td>\n",
       "      <td>47</td>\n",
       "      <td>관계_없음</td>\n",
       "    </tr>\n",
       "    <tr>\n",
       "      <th>8999</th>\n",
       "      <td>wikitree-21265-0-16-18-20-21</td>\n",
       "      <td>전남도의회 안전건설소방위원회 차영수 의원(강진1)은 지난 14일 설 명절을 앞두고 ...</td>\n",
       "      <td>차영수</td>\n",
       "      <td>16</td>\n",
       "      <td>18</td>\n",
       "      <td>의원</td>\n",
       "      <td>20</td>\n",
       "      <td>21</td>\n",
       "      <td>인물:직업/직함</td>\n",
       "    </tr>\n",
       "  </tbody>\n",
       "</table>\n",
       "<p>9000 rows × 9 columns</p>\n",
       "</div>"
      ],
      "text/plain": [
       "                                   0  \\\n",
       "0     wikipedia-24896-25-30-33-19-21   \n",
       "1      wikipedia-12728-224-5-7-42-44   \n",
       "2         wikipedia-28460-3-0-7-9-12   \n",
       "3       wikipedia-11479-37-24-26-3-5   \n",
       "4        wikipedia-15581-6-0-2-32-40   \n",
       "...                              ...   \n",
       "8995     wikipedia-5414-12-15-21-0-4   \n",
       "8996     wikipedia-10384-4-12-14-0-1   \n",
       "8997   wikipedia-25913-6-8-10-93-106   \n",
       "8998     wikitree-12062-15-0-3-46-47   \n",
       "8999    wikitree-21265-0-16-18-20-21   \n",
       "\n",
       "                                                      1         2   3   4  \\\n",
       "0     영국에서 사용되는 스포츠 유틸리티 자동차의 브랜드로는 랜드로버(Land Rover)...      랜드로버  30  33   \n",
       "1     선거에서 민주당은 해산 전 의석인 230석에 한참 못 미치는 57석(지역구 27석,...       민주당   5   7   \n",
       "2     유럽 축구 연맹(UEFA) 집행위원회는 2014년 1월 24일에 열린 회의를 통해 ...  유럽 축구 연맹   0   7   \n",
       "3     용병 공격수 챠디의 부진과 시즌 초 활약한 강수일의 침체, 시즌 중반에 영입한 세르...       강수일  24  26   \n",
       "4     람캄행 왕은 1237년에서 1247년 사이 수코타이의 왕 퍼쿤 씨 인트라팃과 쓰엉 ...       람캄행   0   2   \n",
       "...                                                 ...       ...  ..  ..   \n",
       "8995  2002년 FIFA 월드컵 사우디아라비아와의 1차전에서 독일은 8-0으로 승리하였는...   사우디아라비아  15  21   \n",
       "8996  일본의 2대 메이커인 토요타와 닛산은 시장 점유율을 높이기 위한 신차 개발을 계속하...       토요타  12  14   \n",
       "8997  방호의의 손자 방덕룡(方德龍)은 1588년(선조 21년) 무과에 급제하고 낙안군수로...       방덕룡   8  10   \n",
       "8998  LG전자는 올해 초 국내시장에 출시한 2020년형 ‘LG 그램’ 시리즈를 이달부터 ...      LG전자   0   3   \n",
       "8999  전남도의회 안전건설소방위원회 차영수 의원(강진1)은 지난 14일 설 명절을 앞두고 ...       차영수  16  18   \n",
       "\n",
       "                   5   6    7         8  \n",
       "0                자동차  19   21     단체:제작  \n",
       "1                27석  42   44     관계_없음  \n",
       "2               UEFA   9   12     단체:별칭  \n",
       "3                공격수   3    5  인물:직업/직함  \n",
       "4          퍼쿤 씨 인트라팃  32   40    인물:부모님  \n",
       "...              ...  ..  ...       ...  \n",
       "8995           2002년   0    4     관계_없음  \n",
       "8996              일본   0    1  단체:본사_국가  \n",
       "8997  선무원종공신(宣武原從功臣)  93  106  인물:직업/직함  \n",
       "8998              북미  46   47     관계_없음  \n",
       "8999              의원  20   21  인물:직업/직함  \n",
       "\n",
       "[9000 rows x 9 columns]"
      ]
     },
     "execution_count": 11,
     "metadata": {},
     "output_type": "execute_result"
    }
   ],
   "source": [
    "import pandas as pd\n",
    "data = pd.read_csv('../input/data/train/train.tsv',sep='\\t',header = None)\n",
    "data"
   ]
  },
  {
   "cell_type": "code",
   "execution_count": 12,
   "id": "dabf594f-56de-4dc6-8efa-c681eb3107bb",
   "metadata": {},
   "outputs": [
    {
     "data": {
      "text/plain": [
       "'d[asd]efghijk'"
      ]
     },
     "execution_count": 12,
     "metadata": {},
     "output_type": "execute_result"
    }
   ],
   "source": [
    "t = \"abcdefghijk\"\n",
    "token = '[asd]'\n",
    "# pos 1,2 / 5,6\n",
    "t[3] + '[asd]' + t[4:]"
   ]
  },
  {
   "cell_type": "code",
   "execution_count": 14,
   "id": "01ff3582-bea7-4fe7-9952-26e51d5cb658",
   "metadata": {},
   "outputs": [],
   "source": [
    "# tokenizer.tokenize()"
   ]
  },
  {
   "cell_type": "code",
   "execution_count": 15,
   "id": "3b440cba-f397-46b0-83f4-134f46e0f4cd",
   "metadata": {},
   "outputs": [
    {
     "data": {
      "text/plain": [
       "['[ENT1]', '[ENT2]']"
      ]
     },
     "execution_count": 15,
     "metadata": {},
     "output_type": "execute_result"
    }
   ],
   "source": [
    "# tokenizer.add_special_tokens({'entity1': '[asd]'})\n",
    "tokenizer.additional_special_tokens.append('[asd]')\n",
    "tokenizer.additional_special_tokens"
   ]
  },
  {
   "cell_type": "code",
   "execution_count": 16,
   "id": "93b6953c-aa12-4ed7-a7b7-234706ec4f5f",
   "metadata": {},
   "outputs": [
    {
     "data": {
      "text/plain": [
       "['민주당',\n",
       " '[SEP]',\n",
       " '27',\n",
       " '##석',\n",
       " '선거',\n",
       " '##에',\n",
       " '##서',\n",
       " '민주당',\n",
       " '##은',\n",
       " '해산',\n",
       " '전',\n",
       " '의석',\n",
       " '##인',\n",
       " '230',\n",
       " '##석',\n",
       " '##에',\n",
       " '한참',\n",
       " '못',\n",
       " '미치',\n",
       " '##는',\n",
       " '57',\n",
       " '##석',\n",
       " '(',\n",
       " '지역구',\n",
       " '27',\n",
       " '##석',\n",
       " ',',\n",
       " '비례',\n",
       " '##대표',\n",
       " '30',\n",
       " '##석',\n",
       " ')',\n",
       " '을',\n",
       " '획득',\n",
       " '##하',\n",
       " '##는',\n",
       " '데',\n",
       " '그쳤',\n",
       " '##다',\n",
       " '.']"
      ]
     },
     "execution_count": 16,
     "metadata": {},
     "output_type": "execute_result"
    }
   ],
   "source": [
    "tokenizer.tokenize(concat_entity[1],dataset.sentence[1])\n",
    "# 맞아요 \n",
    "# 좋은거 같습니다\n",
    "# 떠먹여 주시는분\n",
    "# ㅋㅋㅋㅋㅋㅋㅋㅋㅋㅋ\n",
    "# 경량화.. .정말 좋으신 분인데 1000번생각하면 맞습니다 ㅋㅋㅋ\n",
    "\n",
    "# Transformers 가 알아서 다해주는거 같아요 ㅋㅋㅋㅋㅋ\n"
   ]
  },
  {
   "cell_type": "code",
   "execution_count": 17,
   "id": "5c1444e0-5678-4fc5-bb9f-deca618939fc",
   "metadata": {},
   "outputs": [],
   "source": [
    "tokenized_sentences = tokenizer(\n",
    "  concat_entity,\n",
    "  list(dataset['sentence']),\n",
    "  return_tensors=\"pt\",\n",
    "  padding=True,\n",
    "  truncation=True,\n",
    "  max_length=100,\n",
    "  add_special_tokens=True,\n",
    "  )"
   ]
  },
  {
   "cell_type": "code",
   "execution_count": 18,
   "id": "8a99d22f-c10b-4a21-98b1-7b223182edb8",
   "metadata": {},
   "outputs": [],
   "source": [
    "special_token_false = tokenizer(\n",
    "  concat_entity,\n",
    "  list(dataset['sentence']),\n",
    "  return_tensors=\"pt\",\n",
    "  padding=True,\n",
    "  truncation=True,\n",
    "  max_length=100,\n",
    "  add_special_tokens=False,\n",
    "  )"
   ]
  },
  {
   "cell_type": "code",
   "execution_count": 19,
   "id": "a3c6f2d5-e733-4314-96af-7df96ab1f2f4",
   "metadata": {},
   "outputs": [
    {
     "data": {
      "text/plain": [
       "['[CLS]',\n",
       " '민주당',\n",
       " '[SEP]',\n",
       " '27',\n",
       " '##석',\n",
       " '[SEP]',\n",
       " '선거',\n",
       " '##에',\n",
       " '##서',\n",
       " '민주당',\n",
       " '##은',\n",
       " '해산',\n",
       " '전',\n",
       " '의석',\n",
       " '##인',\n",
       " '230',\n",
       " '##석',\n",
       " '##에',\n",
       " '한참',\n",
       " '못',\n",
       " '미치',\n",
       " '##는',\n",
       " '57',\n",
       " '##석',\n",
       " '(',\n",
       " '지역구',\n",
       " '27',\n",
       " '##석',\n",
       " ',',\n",
       " '비례',\n",
       " '##대표',\n",
       " '30',\n",
       " '##석',\n",
       " ')',\n",
       " '을',\n",
       " '획득',\n",
       " '##하',\n",
       " '##는',\n",
       " '데',\n",
       " '그쳤',\n",
       " '##다',\n",
       " '.',\n",
       " '[SEP]']"
      ]
     },
     "execution_count": 19,
     "metadata": {},
     "output_type": "execute_result"
    }
   ],
   "source": [
    "tokenizer.tokenize(concat_entity[1],dataset.sentence[1], add_special_tokens=True)"
   ]
  },
  {
   "cell_type": "code",
   "execution_count": 20,
   "id": "0e7b8339-bdd7-4fa2-9b61-b8ff5a05d30e",
   "metadata": {},
   "outputs": [],
   "source": [
    "dataset['tokenized_cnt'] = [len(tokenizer.tokenize(concat_entity[i],dataset.sentence[i]))for i in range(len(dataset))]"
   ]
  },
  {
   "cell_type": "code",
   "execution_count": 21,
   "id": "d624d6b5-f66d-42dc-9422-7ee1f8da13eb",
   "metadata": {},
   "outputs": [
    {
     "name": "stderr",
     "output_type": "stream",
     "text": [
      "/opt/conda/lib/python3.7/site-packages/seaborn/distributions.py:2557: FutureWarning: `distplot` is a deprecated function and will be removed in a future version. Please adapt your code to use either `displot` (a figure-level function with similar flexibility) or `histplot` (an axes-level function for histograms).\n",
      "  warnings.warn(msg, FutureWarning)\n"
     ]
    },
    {
     "data": {
      "image/png": "[encoded data removed]",
      "text/plain": [
       "<Figure size 432x288 with 1 Axes>"
      ]
     },
     "metadata": {
      "needs_background": "light"
     },
     "output_type": "display_data"
    },
    {
     "name": "stderr",
     "output_type": "stream",
     "text": [
      "/opt/conda/lib/python3.7/site-packages/seaborn/_decorators.py:43: FutureWarning: Pass the following variable as a keyword arg: x. From version 0.12, the only valid positional argument will be `data`, and passing other arguments without an explicit keyword will result in an error or misinterpretation.\n",
      "  FutureWarning\n"
     ]
    },
    {
     "data": {
      "image/png": "[encoded data removed]",
      "text/plain": [
       "<Figure size 432x288 with 1 Axes>"
      ]
     },
     "metadata": {
      "needs_background": "light"
     },
     "output_type": "display_data"
    }
   ],
   "source": [
    "import matplotlib.pyplot as plt\n",
    "import seaborn as sns\n",
    "import numpy as np\n",
    "\n",
    "sns.distplot(dataset.tokenized_cnt)\n",
    "plt.show()\n",
    "sns.boxplot(dataset.tokenized_cnt)\n",
    "plt.show()"
   ]
  },
  {
   "cell_type": "code",
   "execution_count": 22,
   "id": "f3e1d15a-ec2a-42b9-a26b-add3b0a036de",
   "metadata": {},
   "outputs": [
    {
     "data": {
      "text/plain": [
       "150.0"
      ]
     },
     "execution_count": 22,
     "metadata": {},
     "output_type": "execute_result"
    }
   ],
   "source": [
    "dataset.tokenized_cnt.quantile(q = 0.99)"
   ]
  },
  {
   "cell_type": "code",
   "execution_count": 23,
   "id": "3641cd44-6475-4f60-8ad4-7e65d2a90801",
   "metadata": {},
   "outputs": [
    {
     "data": {
      "text/plain": [
       "583"
      ]
     },
     "execution_count": 23,
     "metadata": {},
     "output_type": "execute_result"
    }
   ],
   "source": [
    "sum(dataset.tokenized_cnt > 100)"
   ]
  },
  {
   "cell_type": "code",
   "execution_count": 31,
   "id": "8af90114-f80d-4855-8ac1-367b267b0dc0",
   "metadata": {},
   "outputs": [
    {
     "data": {
      "text/html": [
       "<div>\n",
       "<style scoped>\n",
       "    .dataframe tbody tr th:only-of-type {\n",
       "        vertical-align: middle;\n",
       "    }\n",
       "\n",
       "    .dataframe tbody tr th {\n",
       "        vertical-align: top;\n",
       "    }\n",
       "\n",
       "    .dataframe thead th {\n",
       "        text-align: right;\n",
       "    }\n",
       "</style>\n",
       "<table border=\"1\" class=\"dataframe\">\n",
       "  <thead>\n",
       "    <tr style=\"text-align: right;\">\n",
       "      <th></th>\n",
       "      <th>sentence</th>\n",
       "      <th>entity_01</th>\n",
       "      <th>entity_02</th>\n",
       "      <th>label</th>\n",
       "      <th>tokenized_cnt</th>\n",
       "    </tr>\n",
       "  </thead>\n",
       "  <tbody>\n",
       "    <tr>\n",
       "      <th>0</th>\n",
       "      <td>영국에서 사용되는 스포츠 유틸리티 자동차의 브랜드로는 랜드로버(Land Rover)...</td>\n",
       "      <td>랜드로버</td>\n",
       "      <td>자동차</td>\n",
       "      <td>17</td>\n",
       "      <td>55</td>\n",
       "    </tr>\n",
       "    <tr>\n",
       "      <th>1</th>\n",
       "      <td>선거에서 민주당은 해산 전 의석인 230석에 한참 못 미치는 57석(지역구 27석,...</td>\n",
       "      <td>민주당</td>\n",
       "      <td>27석</td>\n",
       "      <td>0</td>\n",
       "      <td>40</td>\n",
       "    </tr>\n",
       "    <tr>\n",
       "      <th>2</th>\n",
       "      <td>유럽 축구 연맹(UEFA) 집행위원회는 2014년 1월 24일에 열린 회의를 통해 ...</td>\n",
       "      <td>유럽 축구 연맹</td>\n",
       "      <td>UEFA</td>\n",
       "      <td>6</td>\n",
       "      <td>57</td>\n",
       "    </tr>\n",
       "    <tr>\n",
       "      <th>3</th>\n",
       "      <td>용병 공격수 챠디의 부진과 시즌 초 활약한 강수일의 침체, 시즌 중반에 영입한 세르...</td>\n",
       "      <td>강수일</td>\n",
       "      <td>공격수</td>\n",
       "      <td>2</td>\n",
       "      <td>83</td>\n",
       "    </tr>\n",
       "    <tr>\n",
       "      <th>4</th>\n",
       "      <td>람캄행 왕은 1237년에서 1247년 사이 수코타이의 왕 퍼쿤 씨 인트라팃과 쓰엉 ...</td>\n",
       "      <td>람캄행</td>\n",
       "      <td>퍼쿤 씨 인트라팃</td>\n",
       "      <td>8</td>\n",
       "      <td>42</td>\n",
       "    </tr>\n",
       "  </tbody>\n",
       "</table>\n",
       "</div>"
      ],
      "text/plain": [
       "                                            sentence entity_01  entity_02  \\\n",
       "0  영국에서 사용되는 스포츠 유틸리티 자동차의 브랜드로는 랜드로버(Land Rover)...      랜드로버        자동차   \n",
       "1  선거에서 민주당은 해산 전 의석인 230석에 한참 못 미치는 57석(지역구 27석,...       민주당        27석   \n",
       "2  유럽 축구 연맹(UEFA) 집행위원회는 2014년 1월 24일에 열린 회의를 통해 ...  유럽 축구 연맹       UEFA   \n",
       "3  용병 공격수 챠디의 부진과 시즌 초 활약한 강수일의 침체, 시즌 중반에 영입한 세르...       강수일        공격수   \n",
       "4  람캄행 왕은 1237년에서 1247년 사이 수코타이의 왕 퍼쿤 씨 인트라팃과 쓰엉 ...       람캄행  퍼쿤 씨 인트라팃   \n",
       "\n",
       "   label  tokenized_cnt  \n",
       "0     17             55  \n",
       "1      0             40  \n",
       "2      6             57  \n",
       "3      2             83  \n",
       "4      8             42  "
      ]
     },
     "execution_count": 31,
     "metadata": {},
     "output_type": "execute_result"
    }
   ],
   "source": [
    "dataset.head()"
   ]
  },
  {
   "cell_type": "code",
   "execution_count": 38,
   "id": "356137ec-e2bf-4a0c-884c-d2f7fde55cf8",
   "metadata": {},
   "outputs": [
    {
     "name": "stdout",
     "output_type": "stream",
     "text": [
      "방송에선, 한국방송공사가 민영 방송인 동양방송(서울본사 및 부산지국), 동아방송, 전일방송, 서해방송, 한국FM을 인수 합병하고, 민영방송 문화방송의 주식 65％를 강제인수함으로써 대한민국 최대의 언론 기관이 됐고, 문화방송은 제휴민영방송사인 춘천문화방송, 원주문화방송, 강릉문화방송(現MBC강원영동 강릉방송국), 삼척문화방송(現MBC강원영동 삼척방송국), 대전문화방송, 청주문화방송, 충주문화방송, 전주문화방송, 광주문화방송, 목포문화방송, 여수문화방송, 대구문화방송, 안동문화방송, 포항문화방송, 부산문화방송, 울산문화방송, 마산문화방송(現MBC경남 창원본부), 진주문화방송(現MBC경남 진주본부), 남양문화방송(現제주문화방송)의 지분의 반 이상(35%)을 문화방송으로 강제 양도 시키고, 한국방송공사에게 자사의 주식 65%가 강제로 넘어가며 법적 공영방송이 되었다.\n",
      "MBC경남 진주본부 | 문화방송 15\n",
      "\n",
      "******\n",
      "\n",
      "\n",
      "[[노르웨이]]의 [[올라프 5세|올라프 왕세자]]와 그의 배우자 [[스웨덴 공주 메르타]], [[룩셈부르크]]의 [[샤를로트 여대공]]와 [[부르봉파르마의 펠릭스]], [[유고슬라비아 왕국]]의 [[:en:Peter II of Yugoslavia|페타르 2세]], [[그리스 왕국]]의 [[요르요스 2세]], [[오스트리아]]의 [[부르봉파르마의 치타]]와 그녀의 자녀들, [[네덜란드]]의 [[빌헬미나 여왕]], 그녀의 자녀 [[율리아나]], 그리고 손녀 [[베아트릭스]]와 [[:en:Princess Margriet of the Netherlands|마르그리트]]는 귀빈의 자격으로 리도 홀에서 머물렀다.\n",
      "샤를로트 | 부르봉파르마의 펠릭스 0\n",
      "\n",
      "******\n",
      "\n",
      "\n",
      "같은 날 있었던 대법원 형사2부는 삼성SDS의 신주인수권부사채(BW)를 헐값으로 발행하면서 이건희 전 회장이 자녀 등에게 최대지분을 사도록 해 회사에 1,540억원의 손실을 입힌 혐의에 대해서는 \"제3자에게 인수권을 부여하는 제3자 배정의 방법으로 신주 등을 발행하면서 시가보다 현저하게 낮은 가액으로 신주 등을 발행하는 경우에는 회사법상 공정한 발행가액과 실제 발행가액과의 차액에 발행주식수를 곱하여 산출된 액수만큼 회사가 손해를 입은 것으로 봐야 한다\"며 \"따라서 이와 같이 현저하게 불공정한 가액으로 제3자에게 신주 등을 발행하는 행위는 이사의 임무위배행위에 해당하는 것으로서 그로 인해 회사에 공정한 발행가액과의 차액에 상당하는 자금을 취득하지 못하게 되는 손해를 입힌 이상 이사에 대하여 배임죄의 죄책을 물을 수 있다\"고 판시하면서 무죄를 선고한 원심을 파기환송했다.\n",
      "삼성SDS | 이건희 10\n",
      "\n",
      "******\n",
      "\n",
      "\n",
      "1990년 선수 은퇴 후 친정팀인 바라주딘에서 지도자 생활을 시작한 이래 조국인 크로아티아를 비롯해 독일, 중국, 사우디아라비아, 아랍에미리트, 이란의 여러 프로팀을 지휘했으며 특히 GNK 디나모 자그레브 감독 시절 팀의 프르바 HNL 리그 2연패(2006-07, 2007-08), 2006-07 크로아티아컵 우승, 2006년 크로아티아 슈퍼컵 우승을 이끌며 2년 연속(2007년, 2008년) 크로아티아 올해 감독상에 선정됐고 산둥 루넝 감독 시절에는 산둥 루넝의 중국 슈퍼리그 2010 시즌 우승을 이끌며 2010년 중국 슈퍼리그 올해의 감독상에 선정됐고 또한 2015년부터 2019년까지 이란의 페르세폴리스 FC를 지도하면서 이란 프로리그 3연패(2016-17, 2017-18, 2018-19), 2018-19 하즈피컵 우승, 이란 슈퍼컵 3연속 우승(2017년, 2018년, 2019년), 2018년 AFC 챔피언스리그 준우승을 이끌면서 3시즌 연속 이란 프로리그 올해의 감독상에 선정되는 영예를 안았다.\n",
      "GNK 디나모 자그레브 | 프르바 HNL 15\n",
      "\n",
      "******\n",
      "\n",
      "\n",
      "한편, 신정호 교수는“올해가 중국 건국 70주년이 되는 해로 사회주의 시장경제의 성과를 짚어보며 중국은 향후 신중국 100주년을 내다보며‘중화민족 부흥’을 통한 ‘중국 꿈’실현에 온 나라의 힘을 경주하고 있으며 군사분야의 전략무기 체계 완비는 물론 경제분야에서도‘인터넷’정책에 기초하여 시장개척 및 표준화를 선도하여 천년 미래 스마트도시 슝안(Xiongan, 雄安)을 건설 중에 있다.”면서 “모든 4차 산업혁명 관련 지역혁신과제를 향한 우리 전남의 노력은 미국이나 일본이 아니라 이웃한 강대국 중국과의 협력과 경쟁구도 속에서 그 성패가 좌우될 것이며 중국의 성장에 적응하면서 공동 번영하는 교류협력의 지혜를 구하는 일이 그 어느 때보다 절실하다”고 말했다.\n",
      "중국 | 미국 0\n",
      "\n",
      "******\n",
      "\n",
      "\n",
      "서울고등법원 형사부 판사로 재직하던 1970년 2월 17일에 홍콩에서 귀국할 때 녹용 100kg을 밀수하여 관세법위반으로 기소된 일신무역 대표에 대해 \"여행자가 세관장이 지정한 장소인 세관 검사대에 휴대품을 올려놓으면 관세법상 적법한 수입이며 자진신고한 것으로 보아야 한다\"며 무죄를 선고했으며 1970년 3월 27일에 국가를 변란할 목적으로 지하조직을 만들었다는 혐의로 구속기소되어 1심에서 무기징역에서 징역2년 집행유예5년의 유죄를 선고받은 22명의 피고인에 대한 국가보안법, 반공법 위반 사건에서 \"피고인들이 경찰과 검찰에서 범행을 자백한 것은 임의성과 신빙성이 없음에도 이를 증거로 채택한 것은 증거채증법칙에 어긋난다\"며 전원 무죄를 선고했다.\n",
      "서울고등법원 형사부 | 1심 0\n",
      "\n",
      "******\n",
      "\n",
      "\n",
      "오정연은 글에서 강타를 겨냥해 “반년 가량 진지한 만남을 이어가며 하루가 멀다 하고 만나온 연인이 다른 여자와 한 침대에서 발견된다면 충격일 수밖에 없다. 일찍 자겠다더니 몰래 여자와 시간을 보내고 있던 그 사람이 오히려 더 당당하게 나왔다면 충격은 배가 된다. 더구나 그 연인이 내가 어릴 적부터 우상으로 생각해왔던 사람이라면 내가 보고, 듣고, 믿어왔던 세상의 모든 것이 다 거짓으로 느껴지게 될 정도의 어마어마한 파장이 일어난다”며 “이 일은 2년 전 내가 직접 겪은 일이고, 나는 그 이후 크나큰 상처를 받아 참 오래도록 아주 힘들었다. 어렵게 극복해 행복하게 잘살고 있는데 어제오늘 실검에 떠 있는 두 당사자들의 이름을 보니 다시 그 악몽이 선명하게 떠오른다. 남의 눈에 피눈물 나게 하고도 뻔뻔한 사람은 벌을 받아야 마땅하겠지만, 또 아무 일 없다는 듯이 잘 수습해서 활동하고 살아가겠지. 최소한의 도리가 살아 숨 쉬는 세상이 되길 바라는 건 진정 헛일일까”라고 말했다.\n",
      "오정연 | 반년 가량 0\n",
      "\n",
      "******\n",
      "\n",
      "\n",
      "김용운(金容雲, 1955년 6월 5일 ~ 2005년 6월 5일)은 전 KBO 리그 MBC 청룡과 롯데 자이언츠의 선수인데 전주상고에 야구장학생으로 진학했지만 팀 동료와 주먹다짐을 한 끝에 중퇴한 후 고향에 돌아와 봉제공장에 취직했으며 뒷날 천호상업고등학교에 늦깎이 1학년으로 입학했으나(73년) 나이가 많아 제대로 경기에 나서지 못했던 3학년 시절 군대 영장이 날아오자 故 김계현 전 한국전력 감독이 군 입대를 미룰 수 있도록 한국전력 실업팀에 입단시켜줬고 이 과정에서 학교를 중퇴했으며 2년간 한전에서 선수로 뛴 뒤 육군 경리단에 입대했는데 군 제대를 앞둘 무렵 김계현 전 감독의 사망으로 실의에 빠졌지만 스승에 대한 사랑과 존경을 이어가며 79년 제대 후 다시 한전 유니폼을 입었다.\n",
      "김용운 | 1955년 6월 5일 27\n",
      "\n",
      "******\n",
      "\n",
      "\n",
      "신장은 178cm이고 체중은 100kg인 그는 1960년 연극배우 첫 데뷔하였으며 이후 1966년 2월 건국대학교 정치외교학과 학사 학위 후 같은 해 1966년 3월에 학군사관으로 육군 소위 임관한 그는 1968년 3월 육군 중위 진급하였고 군 복무 시절 반공영화를 촬영차 부대 방문을 한 영화제작팀이 당시 주현의 복무 부대를 방문하였을 때 배우 중 한 명이 나타나지 않아 당시 소대장 직위 및 육군 중위 신분에 있었던 주현이 대신 이 배역을 담당한 것을 계기로써 1969년 6월 대한민국 육군 중위 전역 후에도 계속 연극배우 활동하다가 그 해 1969년 12월 TBC 동양방송 특채로써 TBC 드라마에 첫 출연하였고 이듬해 1970년 7월 서울중앙방송(지금의 KBS 한국방송공사) 특채로써 서울중앙방송 드라마에 첫 출연하여 정식 연기자 데뷔하였다.\n",
      "동양방송 | TBC 6\n",
      "\n",
      "******\n",
      "\n",
      "\n",
      "조메이 천황의 황후로는 선대 비다쓰 천황(敏達天皇)과 스이코 천황 사이에서 태어난 황녀가 따로 있음에도 불구하고 비다쓰 천황의 증손녀인 고교쿠 천황, 즉 나카노오에의 생모가 황후가 되었다. 고교쿠 천황이 황족이라고는 하지만 고교쿠 천황의 소생 가운데서도 유력한 계승자가 되지 못한 데다 고교쿠 천황 역시 짧게 재위하고 다시 퇴위하는 바람에 황위 계승자로서의 우위를 확립하지 못했던 나카노오에였기에, 을사의 변 이후에도 쿠데타를 계획하고 주도한 자신이 바로 즉위하는 대신 황족의 장로였던 가루 황자를 고토쿠 천황으로 즉위시키고, 다시 어머니 고교쿠 천황을 다시 사이메이 천황으로 즉위시키고 황태자가 된 다음에도 자신의 황위 계승의 정당성을 대내외적으로 인지시킬 기간이 필요했다는 것이다.\n",
      "스이코 천황 | 조메이 천황 11\n",
      "\n",
      "******\n",
      "\n",
      "\n",
      "루시드 폴은 회사와의 계약에 학을 뗀 상태였기에 유학을 가겠다는 마음을 정하고(금전적으로 여유가 많아서 유학을 가려 했던 것이 아니라 유럽은 원래 박사과정 학생이 연구원 신분이기 때문에 월급과 모든 걸 제공해주는 조건이라 나쁠 거 없으니깐 가려 한 거였다고 한다.) '다 싫다. 혼자 음악 하겠다. 혼자 판(앨범) 팔아서 클럽에서 판 만들어서 판 팔고 음악하겠다. 근데 다른 직장은 하나 있어야겠지' 이렇게 생각하고 마음을 굳힌 상태로 부산에 있을 때였는데 유희열이 정동인 대표에게(안테나 전 대표) 부탁해서 부산에 세 번이나 내려와서 설득했는데 마지막으로 했던 얘기가 \"유학 가고 한 장 앨범 네가 내고 싶을 때 내라. 홍보도 뭐고 알아서 할 테니깐 앨범 내기만 해라. 이래도 싫은가\" 란 얘기에 루시드 폴은 \"하겠습니다.\"라고 얘기하고 계약을 하고 유학을 갔고.\n",
      "안테나 | 정동인 0\n",
      "\n",
      "******\n",
      "\n",
      "\n",
      "그리고 11월 7일, 아시아나항공의 매각 본입찰이 진행되고 제주항공-스톤브릿지 컨소시엄과 HDC현대산업개발-미래에셋 컨소시엄 그리고 KGCI에서 각각 약 1조5000억, 2조4000억, 1조원 초반 정도에 금액을 인수금액으로 입찰하였고 이에따라 금호산업과 아시아나 매각 주간사인 크레디트스위스(CS)는 인수 우선협상대상자를 선정하였지만 아시아나항공 매각 협상 주체인 금호아시아나그룹과 HDC현대산업개발-미래에셋대우 컨소시엄(현산 컨소시엄)과의 이견이 돌출하였지만 우발채무 등으로 인한 손해배상 한도에 대해 구주 가격의 10%(약 320억원),구주 매각 가격은 3200억원대로 정리되 사실상 협상에 타결하여 2019년 12월 27일 오전 금호산업은 이사회를 열어 SPA체결을 의결하여 HDC현대산업개발-미래에셋 컨소시엄이 아시아나항공을 인수키로 하였다.\n",
      "아시아나항공 | 금호아시아나그룹 3\n",
      "\n",
      "******\n",
      "\n",
      "\n",
      "분과별로 ▲세계 수준의 공원·녹지조성, 공기가 깨끗한 도시, 폐기물 원천예방과 발생 감소 등 도시·환경분과 10개 세부목표, 19개 지표 ▲시민교육활성화, 직업훈련 기회 증진 등 교육분과 4개 세부목표, 8개 지표 ▲사회복지 사각지대 최소화, 정신건강 증진, 장애인의 여가활동 등 복지분과 5개 세부목표, 8개 지표 ▲주민참여보장, 주민자치 실현, 남북교류촉진 등 자치분과 4개 세부목표, 10개 지표 ▲신재생 에너지 자립률 확대, 사회적 경제와 전통시장 육성, 일자리 창출 등 경제산업 분과 5개 세부목표, 8개 지표 ▲10년 뒤에도 아름다운 생태관광도시, 문화예술의 향유 등 문화관광 분과 3개 세부목표, 4개 지표 ▲전문 후계 농업인 육성, 도농상생기반 구축, 로컬푸드를 통한 농산물 소비 활성화 등 농업분과 10개 세부목표, 21개 지표이다.\n",
      "남북 | 5개 0\n",
      "\n",
      "******\n",
      "\n",
      "\n",
      "일본의 경우 교토 방송, 비와코 방송, 선 TV와 같은 독립 UHF계 TV 방송사가 지역 민방을 사용하고 있으며, SBS의 지역민방 네트워크 가맹국과 마찬가지로, 오사카(긴키 광역권), 나고야(주쿄 광역권), 후쿠오카, 히로시마, 시즈오카 현소재의 아사히 방송(이하 ABC), 간사이 TV 방송(이하 KTV), 요미우리 TV 방송(이하 YTV), 마이니치 방송(이하 MBS), TV 오사카, 도카이 TV(이하 THK), 나고야 TV(이하 NBN), 주부닛폰 방송, 주쿄 TV 방송, TV 아이치(이하 TVA), 히로시마 홈 TV, 히로시마 TV 방송, 주고쿠 방송, TV 신히로시마, 후쿠오카 방송(이하 FBS), 규슈 아사히 방송(이하 KBC), TV 니시닛폰(이하 TNC), RKB 마이니치 방송, TVQ 규슈 방송, 시즈오카 아사히 TV(구 시즈오카 현민 방송)과 같은 그런 방송사들을 일본의 지역 민방 네트워크 가맹국으로 분류된다.\n",
      "후쿠오카 방송 | FBS 6\n",
      "\n",
      "******\n",
      "\n",
      "\n",
      "그러나 팬들의 바램에도 결국 쌍방울 레이더스는 2000년 1월 7일에 해체되었고, 기존 선수단과 코칭스태프, 신인 지명권은 SK 와이번스에 인계되었는데 1999년 말 김준환 감독 대행이 쌍방울 정식 감독으로 부임한 과정에서 코치로 부임했지만 팀이 2000년 1월 해체된 후 새로 창단된 SK 와이번스에서 코칭스태프를 역임한 함학수 김성현 박철우 코치와 강병철 감독이 SK 초대 감독으로 부임하면서 이 팀 수석코치를 맡은 김준환 코치가 2000년 말 '쌍방울 색 지우기' 프로젝트에 따라 팀을 떠나야 했으며 이들 뿐 아니라 앞서 언급한 것처럼 1999년 말 김준환 감독 대행이 쌍방울 정식 감독으로 부임한 과정에서 코치로 부임했으나 팀이 2000년 1월 해체된 후 새로 창단된 SK 와이번스에서 코칭스태프를 역임한 이건열 코치와 기존 쌍방울 레이더스 코치 출신인 박상열 김만후 코치가 해고됐고 이외에도 쌍방울에서 그대로 받은 선수들 위주로 대대적인 구조 정리가 단행됐다.\n",
      "쌍방울 레이더스 | 1999년 0\n",
      "\n",
      "******\n",
      "\n",
      "\n",
      "삼성 대덕연구센터, LG화학, LG생명과학, LG생활건강, LG유플러스 기술연구원, KT 네트워크기술연구소, 한화그룹 중앙연구소(한화케미칼, 한화건설), GS플라텍, GS칼텍스 중앙기술연구소, KT&G 중앙연구원, SK C&C, SK이노베이션 글로벌 테크놀로지, 대한항공 기술연구원, 대림산업 연구소, 삼양 중앙연구소, 롯데케미칼 연구소, 금호석유화학 중앙연구소, 한국타이어 중앙연구소, 애경 종합기술원, 두산중공업 기술연구소, 쌍용양회공업 기술연구소, LIG넥스원 대전연구소, 태광산업 중앙연구소, 한전원자력연료 등 대기업 연구소와 ㈜선바이오텍, ㈜매크로그래프, ㈜비티웍스, ㈜제이피이 등 연구소기업, 중앙백신연구소 등 벤처기업들이 밀집해 있어 DRAM & SRAM 칩, LCD 모듈, 휴대폰 기술, 무선광역통신기술 분야 등 상용화 기술을 보유하고 있다.\n",
      "LG화학 | 기술연구원 0\n",
      "\n",
      "******\n",
      "\n",
      "\n",
      "신장은 178cm이고 체중은 100kg인 그는 1960년 연극배우 첫 데뷔하였으며 이후 1966년 2월 건국대학교 정치외교학과 학사 학위 후 같은 해 1966년 3월에 학군사관으로 육군 소위 임관한 그는 1968년 3월 육군 중위 진급하였고 군 복무 시절 반공영화를 촬영차 부대 방문을 한 영화제작팀이 당시 주현의 복무 부대를 방문하였을 때 배우 중 한 명이 나타나지 않아 당시 소대장 직위 및 육군 중위 신분에 있었던 주현이 대신 이 배역을 담당한 것을 계기로써 1969년 6월 대한민국 육군 중위 전역 후에도 계속 연극배우 활동하다가 그 해 1969년 12월 TBC 동양방송 특채로써 TBC 드라마에 첫 출연하였고 이듬해 1970년 7월 서울중앙방송(지금의 KBS 한국방송공사) 특채로써 서울중앙방송 드라마에 첫 출연하여 정식 연기자 데뷔하였다.\n",
      "동양방송 | TBC 6\n",
      "\n",
      "******\n",
      "\n",
      "\n",
      "American Folk Blues Festival에는 머디 워터스, 소니 보이 윌리엄슨, 존 리 후커, 시피 월러스. T-본 워커, 소니 테리 & 브라우니 맥기, 멤피스 슬림, 오티스 러시, 로니 잭슨, 에디 보이드, 빅 월터 호튼, 주니어 웰스, 빅 조 윌리엄스, 미시시피 프레드 맥도웰, 윌리 딕슨, 오티스 스팬, 빅 마마 손튼, 버카 화이트, 지미 리드, 하울링 울프 (서니랜드 슬림, 휴버트 섬린, 윌리 딕슨과 드러머 클리프튼 제임스와 함께), 챔피언 잭 듀프리, 손 하우스, 스킵 제임스, 슬리피 존 에스테스, 리틀 브라더 몽고메리, 빅토리아 스파이버리, J. B. 르누아르, 리틀 월터, 캐리 벨, 루이지애나 레드, 라이틴 홉킨스, 조 터너, 버디 가이, 매직 샘, 리 잭슨, 맷 기타 머피, 루즈벨트 스카이스, 닥터 로스, 코코 테일러, 하운드 도그 테일러, 아치 에드워즈, 헬렌 흄스와 슈가 파이 드샌토 등이 공연하였다.\n",
      "오티스 스팬 | 머디 워터스 0\n",
      "\n",
      "******\n",
      "\n",
      "\n",
      "그들은 《사우스 파크》 시즌 3의 11편인 \"Starvin Marvin, In Space\"의 마지막 부분에서 \"Chewbacca, or I am Chewbacca\"와, 《오르가즈모》(\"Now You're a Man\"), 베이스켓볼(\"Warts on Your Dick\"), 《극장판 사우스 파크》(\"What Would Brian Boitano Do Pt. II\", \"Hell Isn't Good\" 메탈리카의 제임스 헷필드가 노래를 불렀다.) 그리고 《팀 아메리카: 세계 경찰》(\"America, Fuck Yeah, \" \"Everyone Has AIDS, \" \"Only A Woman\" and \"Montage\"). 그들은 또한 몇몇의 `Crack'(혹은 `Everybody Loves Crack')이라 불리는 라이브 노래와, \"David Kelley, TV Warrior\" 그리고 Primus의 노래중 \"Sgt. Baker\"를 연주했다.\n",
      "제임스 헷필드 | 메탈리카 4\n",
      "\n",
      "******\n",
      "\n",
      "\n",
      "2003년 7월 7일에 한나라당에서 탈당한 김부겸, 김영춘, 안영근, 이부영, 이우재등 개혁파 의원 5명과 9월 20일에 새천년민주당에서 탈당한 강봉균, 김근태, 김덕배, 김명섭, 김성호, 김원기, 김태홍, 김택기, 김희선, 남궁석, 문석호, 박병석, 원혜영, 설송웅, 송석찬, 송영길, 송영진, 신계륜, 신기남, 유재건, 이강래, 이상수, 이원성, 이창복, 이해찬, 임종석, 임채정, 장영달, 정대철, 정동채, 정세균, 천용택, 홍재형, 이종걸, 천정배 총 35명, 9월 23일에 새천년민주당을 탈당한 김덕규, 배기선, 10월 23일에 유선호, 오영식, 우상호, 채상현이 새천년민주당에서 탈당하고, 11월 1일에 새천년민주당을 탈당한 최용규, 11월 3일에 개혁국민정당에서 탈당한 김원웅, 유시민 2명의 의원을 주축으로 하여 당원들의 주체적 참여 속에 2003년 11월 11일에 열린우리당을 창당하였다.\n",
      "개혁국민정당 | 유시민 0\n",
      "\n",
      "******\n",
      "\n",
      "\n",
      "‘자우자’의 어근 (')는 ‘가운데’를 뜻하기 때문에 ‘알-자우자’는 대충 ‘가운데 것’을 의미한다. 이후 ‘알 자우자’는 오리온자리와 쌍둥이자리를 일컫는 아랍어 단어로 굳어졌다. 현재 아랍어로 오리온을 일컫는 표기는 ‘알 자바’이며, 베텔게우스의 이름에 포함된 ‘알 자우자’도 사용하고 있다. 17세기 영국 번역가 에드문드 칠미드는 크리스트마누스의 표기를 가져와 ‘예드 알게우제’(\"Ied Algeuze\")라고 이름붙였다. 기록된 다른 아랍어 이름으로는 ‘알 야드 알 얌나’('), ‘알 디라’('), ‘알 만키브’(')가 있는데, 이들에 ‘거인의’라는 의미인 ‘알 자우자’를 붙인다.\n",
      "베텔게우스 | 오리온자리 0\n",
      "\n",
      "******\n",
      "\n",
      "\n",
      "연세대학교 유연주 학생은“연세대에듀캠프는 국내 농촌, 어촌, 산촌, 낙도 등지의 아이들을 대상으로 연세대학교 학생들이 멘토가 되어 다양한 형태의 교육을 제공하는 교육봉사활동 프로그램이다\"며 \"도서산간지역의 학생들에게는 학교수업에서 체험할 수 없는 다양한 교육기회를 제공하고 소중한 멘토링의 경험을 쌓게 하며, 멘토가 되는 연세대학교 학생들은 봉사활동 및 사회참여, 지방 도시와 농어촌 탐방, 그리고 연세대학교 학생들과의 새로운 만남의 기회를 가질 수 있고, 때로는 선생님 같은 모습으로 학업에 흥미를 붙일 수 있도록 해주고, 때로는 언니 오빠와 같은 모습으로 애정과 관심을 나누어 주는 에듀캠프는 아이들이 밝은 미래를 꿈꾸고 그 꿈을 키우는데 보탬이 되었으면 한다”고 말했다.\n",
      "연세대학교 | 학생 10\n",
      "\n",
      "******\n",
      "\n",
      "\n"
     ]
    }
   ],
   "source": [
    "for i in range(len(dataset.loc[dataset.tokenized_cnt > 200].sentence)):\n",
    "    print(dataset.loc[dataset.tokenized_cnt > 200].sentence.values[i])\n",
    "    print(dataset.loc[dataset.tokenized_cnt > 200].entity_01.values[i],'|', dataset.loc[dataset.tokenized_cnt > 200].entity_02.values[i], dataset.loc[dataset.tokenized_cnt > 200].label.values[i],)\n",
    "    print('\\n******\\n\\n')"
   ]
  },
  {
   "cell_type": "code",
   "execution_count": 27,
   "id": "97f01d7e-4f8d-4fd9-b923-797acaa580d1",
   "metadata": {},
   "outputs": [
    {
     "data": {
      "image/png": "[encoded data removed]",
      "text/plain": [
       "<Figure size 1440x504 with 2 Axes>"
      ]
     },
     "metadata": {
      "needs_background": "light"
     },
     "output_type": "display_data"
    }
   ],
   "source": [
    "plt.figure( figsize = (20,7))\n",
    "plt.subplot(1,2,1)\n",
    "sns.barplot(x = dataset.loc[dataset.tokenized_cnt > 100].label.value_counts().index, y = dataset.loc[dataset.tokenized_cnt > 100].label.value_counts().values )\n",
    "plt.title('token_cnt > 100')\n",
    "plt.subplot(1,2,2)\n",
    "sns.barplot(x = dataset.label.value_counts().index, y = dataset.label.value_counts().values )\n",
    "plt.title('all train data')\n",
    "plt.show()"
   ]
  },
  {
   "cell_type": "code",
   "execution_count": 28,
   "id": "7a9ad4c8-2282-43bf-aec2-8fe8d3b74bc9",
   "metadata": {},
   "outputs": [
    {
     "data": {
      "text/plain": [
       "<AxesSubplot:>"
      ]
     },
     "execution_count": 28,
     "metadata": {},
     "output_type": "execute_result"
    },
    {
     "data": {
      "image/png": "[encoded data removed]",
      "text/plain": [
       "<Figure size 432x288 with 1 Axes>"
      ]
     },
     "metadata": {
      "needs_background": "light"
     },
     "output_type": "display_data"
    }
   ],
   "source": [
    "sns.barplot( x = dataset.label.value_counts().index, y = dataset.label.value_counts().values )"
   ]
  },
  {
   "cell_type": "code",
   "execution_count": null,
   "id": "fc8bb705-c2ed-4086-becb-9c9b132805ac",
   "metadata": {},
   "outputs": [],
   "source": [
    "dataset.label.value_counts()"
   ]
  },
  {
   "cell_type": "code",
   "execution_count": null,
   "id": "8fa5b75d-c98a-4361-a935-bbe84993d5ec",
   "metadata": {},
   "outputs": [],
   "source": [
    "\n",
    "dat\n",
    "tokenizer.tokenize( )"
   ]
  },
  {
   "cell_type": "code",
   "execution_count": 39,
   "id": "55551bfc-c7d7-4677-8e5d-65bb5526d073",
   "metadata": {},
   "outputs": [
    {
     "data": {
      "text/plain": [
       "{'input_ids': [[2, 3091, 4493, 3, 10086, 4239, 4505, 3, 6729, 3]], 'token_type_ids': [[0, 0, 0, 0, 1, 1, 1, 1, 1, 1]], 'attention_mask': [[1, 1, 1, 1, 1, 1, 1, 1, 1, 1]]}"
      ]
     },
     "execution_count": 39,
     "metadata": {},
     "output_type": "execute_result"
    }
   ],
   "source": [
    "t = tokenizer(['앙앙'], [concat_entity[0]])\n",
    "t"
   ]
  },
  {
   "cell_type": "markdown",
   "id": "8916bf86-7d4d-4f39-96e8-4fb9c7edab45",
   "metadata": {},
   "source": [
    "### Model import"
   ]
  },
  {
   "cell_type": "code",
   "execution_count": null,
   "id": "dcfd6fac-f58a-419d-b0a6-e12f91085478",
   "metadata": {},
   "outputs": [],
   "source": [
    "from transformers import ElectraConfig, ElectraForSequenceClassification"
   ]
  },
  {
   "cell_type": "code",
   "execution_count": null,
   "id": "008af542-befd-47e0-b12c-0cdfd224f7e8",
   "metadata": {},
   "outputs": [],
   "source": [
    "electra_config = ElectraConfig.from_pretrained(\"monologg/koelectra-base-v3-discriminator\")"
   ]
  },
  {
   "cell_type": "code",
   "execution_count": null,
   "id": "45ac5007-9a74-4bfb-8c4e-31a82538a7e0",
   "metadata": {},
   "outputs": [],
   "source": [
    "electra_config.num_labels = 42"
   ]
  },
  {
   "cell_type": "code",
   "execution_count": null,
   "id": "2b014fb9-1f3d-42d6-9c1e-dab8939ec42a",
   "metadata": {},
   "outputs": [],
   "source": [
    "m = ElectraForSequenceClassification(electra_config)\n",
    "m"
   ]
  },
  {
   "cell_type": "code",
   "execution_count": null,
   "id": "e481b70a-c860-4e07-8031-38431516d2e1",
   "metadata": {},
   "outputs": [],
   "source": [
    "m.config"
   ]
  },
  {
   "cell_type": "code",
   "execution_count": 78,
   "id": "44b77195-2832-4fad-ad40-cbe82505ec83",
   "metadata": {},
   "outputs": [
    {
     "name": "stderr",
     "output_type": "stream",
     "text": [
      "Some weights of the model checkpoint at monologg/koelectra-base-v3-discriminator were not used when initializing ElectraForSequenceClassification: ['discriminator_predictions.dense.weight', 'discriminator_predictions.dense.bias', 'discriminator_predictions.dense_prediction.weight', 'discriminator_predictions.dense_prediction.bias']\n",
      "- This IS expected if you are initializing ElectraForSequenceClassification from the checkpoint of a model trained on another task or with another architecture (e.g. initializing a BertForSequenceClassification model from a BertForPreTraining model).\n",
      "- This IS NOT expected if you are initializing ElectraForSequenceClassification from the checkpoint of a model that you expect to be exactly identical (initializing a BertForSequenceClassification model from a BertForSequenceClassification model).\n",
      "Some weights of ElectraForSequenceClassification were not initialized from the model checkpoint at monologg/koelectra-base-v3-discriminator and are newly initialized: ['classifier.dense.weight', 'classifier.dense.bias', 'classifier.out_proj.weight', 'classifier.out_proj.bias']\n",
      "You should probably TRAIN this model on a down-stream task to be able to use it for predictions and inference.\n"
     ]
    }
   ],
   "source": [
    "model = ElectraForSequenceClassification.from_pretrained(\"monologg/koelectra-base-v3-discriminator\", num_labels = 42)"
   ]
  },
  {
   "cell_type": "code",
   "execution_count": 62,
   "id": "6cf99802-2ef3-460d-be5d-764645311eeb",
   "metadata": {},
   "outputs": [
    {
     "data": {
      "text/plain": [
       "ElectraConfig {\n",
       "  \"_name_or_path\": \"monologg/koelectra-base-v3-discriminator\",\n",
       "  \"architectures\": [\n",
       "    \"ElectraForPreTraining\"\n",
       "  ],\n",
       "  \"attention_probs_dropout_prob\": 0.1,\n",
       "  \"embedding_size\": 768,\n",
       "  \"hidden_act\": \"gelu\",\n",
       "  \"hidden_dropout_prob\": 0.1,\n",
       "  \"hidden_size\": 768,\n",
       "  \"initializer_range\": 0.02,\n",
       "  \"intermediate_size\": 3072,\n",
       "  \"layer_norm_eps\": 1e-12,\n",
       "  \"max_position_embeddings\": 512,\n",
       "  \"model_type\": \"electra\",\n",
       "  \"num_attention_heads\": 12,\n",
       "  \"num_hidden_layers\": 12,\n",
       "  \"pad_token_id\": 0,\n",
       "  \"position_embedding_type\": \"absolute\",\n",
       "  \"summary_activation\": \"gelu\",\n",
       "  \"summary_last_dropout\": 0.1,\n",
       "  \"summary_type\": \"first\",\n",
       "  \"summary_use_proj\": true,\n",
       "  \"transformers_version\": \"4.2.0\",\n",
       "  \"type_vocab_size\": 2,\n",
       "  \"vocab_size\": 35000\n",
       "}"
      ]
     },
     "execution_count": 62,
     "metadata": {},
     "output_type": "execute_result"
    }
   ],
   "source": [
    "model.config"
   ]
  },
  {
   "cell_type": "code",
   "execution_count": 70,
   "id": "685681ed-8cd9-47d2-94d0-e727e9270e02",
   "metadata": {},
   "outputs": [
    {
     "data": {
      "text/plain": [
       "ElectraForSequenceClassification(\n",
       "  (electra): ElectraModel(\n",
       "    (embeddings): ElectraEmbeddings(\n",
       "      (word_embeddings): Embedding(35000, 768, padding_idx=0)\n",
       "      (position_embeddings): Embedding(512, 768)\n",
       "      (token_type_embeddings): Embedding(2, 768)\n",
       "      (LayerNorm): LayerNorm((768,), eps=1e-12, elementwise_affine=True)\n",
       "      (dropout): Dropout(p=0.1, inplace=False)\n",
       "    )\n",
       "    (encoder): ElectraEncoder(\n",
       "      (layer): ModuleList(\n",
       "        (0): ElectraLayer(\n",
       "          (attention): ElectraAttention(\n",
       "            (self): ElectraSelfAttention(\n",
       "              (query): Linear(in_features=768, out_features=768, bias=True)\n",
       "              (key): Linear(in_features=768, out_features=768, bias=True)\n",
       "              (value): Linear(in_features=768, out_features=768, bias=True)\n",
       "              (dropout): Dropout(p=0.1, inplace=False)\n",
       "            )\n",
       "            (output): ElectraSelfOutput(\n",
       "              (dense): Linear(in_features=768, out_features=768, bias=True)\n",
       "              (LayerNorm): LayerNorm((768,), eps=1e-12, elementwise_affine=True)\n",
       "              (dropout): Dropout(p=0.1, inplace=False)\n",
       "            )\n",
       "          )\n",
       "          (intermediate): ElectraIntermediate(\n",
       "            (dense): Linear(in_features=768, out_features=3072, bias=True)\n",
       "          )\n",
       "          (output): ElectraOutput(\n",
       "            (dense): Linear(in_features=3072, out_features=768, bias=True)\n",
       "            (LayerNorm): LayerNorm((768,), eps=1e-12, elementwise_affine=True)\n",
       "            (dropout): Dropout(p=0.1, inplace=False)\n",
       "          )\n",
       "        )\n",
       "        (1): ElectraLayer(\n",
       "          (attention): ElectraAttention(\n",
       "            (self): ElectraSelfAttention(\n",
       "              (query): Linear(in_features=768, out_features=768, bias=True)\n",
       "              (key): Linear(in_features=768, out_features=768, bias=True)\n",
       "              (value): Linear(in_features=768, out_features=768, bias=True)\n",
       "              (dropout): Dropout(p=0.1, inplace=False)\n",
       "            )\n",
       "            (output): ElectraSelfOutput(\n",
       "              (dense): Linear(in_features=768, out_features=768, bias=True)\n",
       "              (LayerNorm): LayerNorm((768,), eps=1e-12, elementwise_affine=True)\n",
       "              (dropout): Dropout(p=0.1, inplace=False)\n",
       "            )\n",
       "          )\n",
       "          (intermediate): ElectraIntermediate(\n",
       "            (dense): Linear(in_features=768, out_features=3072, bias=True)\n",
       "          )\n",
       "          (output): ElectraOutput(\n",
       "            (dense): Linear(in_features=3072, out_features=768, bias=True)\n",
       "            (LayerNorm): LayerNorm((768,), eps=1e-12, elementwise_affine=True)\n",
       "            (dropout): Dropout(p=0.1, inplace=False)\n",
       "          )\n",
       "        )\n",
       "        (2): ElectraLayer(\n",
       "          (attention): ElectraAttention(\n",
       "            (self): ElectraSelfAttention(\n",
       "              (query): Linear(in_features=768, out_features=768, bias=True)\n",
       "              (key): Linear(in_features=768, out_features=768, bias=True)\n",
       "              (value): Linear(in_features=768, out_features=768, bias=True)\n",
       "              (dropout): Dropout(p=0.1, inplace=False)\n",
       "            )\n",
       "            (output): ElectraSelfOutput(\n",
       "              (dense): Linear(in_features=768, out_features=768, bias=True)\n",
       "              (LayerNorm): LayerNorm((768,), eps=1e-12, elementwise_affine=True)\n",
       "              (dropout): Dropout(p=0.1, inplace=False)\n",
       "            )\n",
       "          )\n",
       "          (intermediate): ElectraIntermediate(\n",
       "            (dense): Linear(in_features=768, out_features=3072, bias=True)\n",
       "          )\n",
       "          (output): ElectraOutput(\n",
       "            (dense): Linear(in_features=3072, out_features=768, bias=True)\n",
       "            (LayerNorm): LayerNorm((768,), eps=1e-12, elementwise_affine=True)\n",
       "            (dropout): Dropout(p=0.1, inplace=False)\n",
       "          )\n",
       "        )\n",
       "        (3): ElectraLayer(\n",
       "          (attention): ElectraAttention(\n",
       "            (self): ElectraSelfAttention(\n",
       "              (query): Linear(in_features=768, out_features=768, bias=True)\n",
       "              (key): Linear(in_features=768, out_features=768, bias=True)\n",
       "              (value): Linear(in_features=768, out_features=768, bias=True)\n",
       "              (dropout): Dropout(p=0.1, inplace=False)\n",
       "            )\n",
       "            (output): ElectraSelfOutput(\n",
       "              (dense): Linear(in_features=768, out_features=768, bias=True)\n",
       "              (LayerNorm): LayerNorm((768,), eps=1e-12, elementwise_affine=True)\n",
       "              (dropout): Dropout(p=0.1, inplace=False)\n",
       "            )\n",
       "          )\n",
       "          (intermediate): ElectraIntermediate(\n",
       "            (dense): Linear(in_features=768, out_features=3072, bias=True)\n",
       "          )\n",
       "          (output): ElectraOutput(\n",
       "            (dense): Linear(in_features=3072, out_features=768, bias=True)\n",
       "            (LayerNorm): LayerNorm((768,), eps=1e-12, elementwise_affine=True)\n",
       "            (dropout): Dropout(p=0.1, inplace=False)\n",
       "          )\n",
       "        )\n",
       "        (4): ElectraLayer(\n",
       "          (attention): ElectraAttention(\n",
       "            (self): ElectraSelfAttention(\n",
       "              (query): Linear(in_features=768, out_features=768, bias=True)\n",
       "              (key): Linear(in_features=768, out_features=768, bias=True)\n",
       "              (value): Linear(in_features=768, out_features=768, bias=True)\n",
       "              (dropout): Dropout(p=0.1, inplace=False)\n",
       "            )\n",
       "            (output): ElectraSelfOutput(\n",
       "              (dense): Linear(in_features=768, out_features=768, bias=True)\n",
       "              (LayerNorm): LayerNorm((768,), eps=1e-12, elementwise_affine=True)\n",
       "              (dropout): Dropout(p=0.1, inplace=False)\n",
       "            )\n",
       "          )\n",
       "          (intermediate): ElectraIntermediate(\n",
       "            (dense): Linear(in_features=768, out_features=3072, bias=True)\n",
       "          )\n",
       "          (output): ElectraOutput(\n",
       "            (dense): Linear(in_features=3072, out_features=768, bias=True)\n",
       "            (LayerNorm): LayerNorm((768,), eps=1e-12, elementwise_affine=True)\n",
       "            (dropout): Dropout(p=0.1, inplace=False)\n",
       "          )\n",
       "        )\n",
       "        (5): ElectraLayer(\n",
       "          (attention): ElectraAttention(\n",
       "            (self): ElectraSelfAttention(\n",
       "              (query): Linear(in_features=768, out_features=768, bias=True)\n",
       "              (key): Linear(in_features=768, out_features=768, bias=True)\n",
       "              (value): Linear(in_features=768, out_features=768, bias=True)\n",
       "              (dropout): Dropout(p=0.1, inplace=False)\n",
       "            )\n",
       "            (output): ElectraSelfOutput(\n",
       "              (dense): Linear(in_features=768, out_features=768, bias=True)\n",
       "              (LayerNorm): LayerNorm((768,), eps=1e-12, elementwise_affine=True)\n",
       "              (dropout): Dropout(p=0.1, inplace=False)\n",
       "            )\n",
       "          )\n",
       "          (intermediate): ElectraIntermediate(\n",
       "            (dense): Linear(in_features=768, out_features=3072, bias=True)\n",
       "          )\n",
       "          (output): ElectraOutput(\n",
       "            (dense): Linear(in_features=3072, out_features=768, bias=True)\n",
       "            (LayerNorm): LayerNorm((768,), eps=1e-12, elementwise_affine=True)\n",
       "            (dropout): Dropout(p=0.1, inplace=False)\n",
       "          )\n",
       "        )\n",
       "        (6): ElectraLayer(\n",
       "          (attention): ElectraAttention(\n",
       "            (self): ElectraSelfAttention(\n",
       "              (query): Linear(in_features=768, out_features=768, bias=True)\n",
       "              (key): Linear(in_features=768, out_features=768, bias=True)\n",
       "              (value): Linear(in_features=768, out_features=768, bias=True)\n",
       "              (dropout): Dropout(p=0.1, inplace=False)\n",
       "            )\n",
       "            (output): ElectraSelfOutput(\n",
       "              (dense): Linear(in_features=768, out_features=768, bias=True)\n",
       "              (LayerNorm): LayerNorm((768,), eps=1e-12, elementwise_affine=True)\n",
       "              (dropout): Dropout(p=0.1, inplace=False)\n",
       "            )\n",
       "          )\n",
       "          (intermediate): ElectraIntermediate(\n",
       "            (dense): Linear(in_features=768, out_features=3072, bias=True)\n",
       "          )\n",
       "          (output): ElectraOutput(\n",
       "            (dense): Linear(in_features=3072, out_features=768, bias=True)\n",
       "            (LayerNorm): LayerNorm((768,), eps=1e-12, elementwise_affine=True)\n",
       "            (dropout): Dropout(p=0.1, inplace=False)\n",
       "          )\n",
       "        )\n",
       "        (7): ElectraLayer(\n",
       "          (attention): ElectraAttention(\n",
       "            (self): ElectraSelfAttention(\n",
       "              (query): Linear(in_features=768, out_features=768, bias=True)\n",
       "              (key): Linear(in_features=768, out_features=768, bias=True)\n",
       "              (value): Linear(in_features=768, out_features=768, bias=True)\n",
       "              (dropout): Dropout(p=0.1, inplace=False)\n",
       "            )\n",
       "            (output): ElectraSelfOutput(\n",
       "              (dense): Linear(in_features=768, out_features=768, bias=True)\n",
       "              (LayerNorm): LayerNorm((768,), eps=1e-12, elementwise_affine=True)\n",
       "              (dropout): Dropout(p=0.1, inplace=False)\n",
       "            )\n",
       "          )\n",
       "          (intermediate): ElectraIntermediate(\n",
       "            (dense): Linear(in_features=768, out_features=3072, bias=True)\n",
       "          )\n",
       "          (output): ElectraOutput(\n",
       "            (dense): Linear(in_features=3072, out_features=768, bias=True)\n",
       "            (LayerNorm): LayerNorm((768,), eps=1e-12, elementwise_affine=True)\n",
       "            (dropout): Dropout(p=0.1, inplace=False)\n",
       "          )\n",
       "        )\n",
       "        (8): ElectraLayer(\n",
       "          (attention): ElectraAttention(\n",
       "            (self): ElectraSelfAttention(\n",
       "              (query): Linear(in_features=768, out_features=768, bias=True)\n",
       "              (key): Linear(in_features=768, out_features=768, bias=True)\n",
       "              (value): Linear(in_features=768, out_features=768, bias=True)\n",
       "              (dropout): Dropout(p=0.1, inplace=False)\n",
       "            )\n",
       "            (output): ElectraSelfOutput(\n",
       "              (dense): Linear(in_features=768, out_features=768, bias=True)\n",
       "              (LayerNorm): LayerNorm((768,), eps=1e-12, elementwise_affine=True)\n",
       "              (dropout): Dropout(p=0.1, inplace=False)\n",
       "            )\n",
       "          )\n",
       "          (intermediate): ElectraIntermediate(\n",
       "            (dense): Linear(in_features=768, out_features=3072, bias=True)\n",
       "          )\n",
       "          (output): ElectraOutput(\n",
       "            (dense): Linear(in_features=3072, out_features=768, bias=True)\n",
       "            (LayerNorm): LayerNorm((768,), eps=1e-12, elementwise_affine=True)\n",
       "            (dropout): Dropout(p=0.1, inplace=False)\n",
       "          )\n",
       "        )\n",
       "        (9): ElectraLayer(\n",
       "          (attention): ElectraAttention(\n",
       "            (self): ElectraSelfAttention(\n",
       "              (query): Linear(in_features=768, out_features=768, bias=True)\n",
       "              (key): Linear(in_features=768, out_features=768, bias=True)\n",
       "              (value): Linear(in_features=768, out_features=768, bias=True)\n",
       "              (dropout): Dropout(p=0.1, inplace=False)\n",
       "            )\n",
       "            (output): ElectraSelfOutput(\n",
       "              (dense): Linear(in_features=768, out_features=768, bias=True)\n",
       "              (LayerNorm): LayerNorm((768,), eps=1e-12, elementwise_affine=True)\n",
       "              (dropout): Dropout(p=0.1, inplace=False)\n",
       "            )\n",
       "          )\n",
       "          (intermediate): ElectraIntermediate(\n",
       "            (dense): Linear(in_features=768, out_features=3072, bias=True)\n",
       "          )\n",
       "          (output): ElectraOutput(\n",
       "            (dense): Linear(in_features=3072, out_features=768, bias=True)\n",
       "            (LayerNorm): LayerNorm((768,), eps=1e-12, elementwise_affine=True)\n",
       "            (dropout): Dropout(p=0.1, inplace=False)\n",
       "          )\n",
       "        )\n",
       "        (10): ElectraLayer(\n",
       "          (attention): ElectraAttention(\n",
       "            (self): ElectraSelfAttention(\n",
       "              (query): Linear(in_features=768, out_features=768, bias=True)\n",
       "              (key): Linear(in_features=768, out_features=768, bias=True)\n",
       "              (value): Linear(in_features=768, out_features=768, bias=True)\n",
       "              (dropout): Dropout(p=0.1, inplace=False)\n",
       "            )\n",
       "            (output): ElectraSelfOutput(\n",
       "              (dense): Linear(in_features=768, out_features=768, bias=True)\n",
       "              (LayerNorm): LayerNorm((768,), eps=1e-12, elementwise_affine=True)\n",
       "              (dropout): Dropout(p=0.1, inplace=False)\n",
       "            )\n",
       "          )\n",
       "          (intermediate): ElectraIntermediate(\n",
       "            (dense): Linear(in_features=768, out_features=3072, bias=True)\n",
       "          )\n",
       "          (output): ElectraOutput(\n",
       "            (dense): Linear(in_features=3072, out_features=768, bias=True)\n",
       "            (LayerNorm): LayerNorm((768,), eps=1e-12, elementwise_affine=True)\n",
       "            (dropout): Dropout(p=0.1, inplace=False)\n",
       "          )\n",
       "        )\n",
       "        (11): ElectraLayer(\n",
       "          (attention): ElectraAttention(\n",
       "            (self): ElectraSelfAttention(\n",
       "              (query): Linear(in_features=768, out_features=768, bias=True)\n",
       "              (key): Linear(in_features=768, out_features=768, bias=True)\n",
       "              (value): Linear(in_features=768, out_features=768, bias=True)\n",
       "              (dropout): Dropout(p=0.1, inplace=False)\n",
       "            )\n",
       "            (output): ElectraSelfOutput(\n",
       "              (dense): Linear(in_features=768, out_features=768, bias=True)\n",
       "              (LayerNorm): LayerNorm((768,), eps=1e-12, elementwise_affine=True)\n",
       "              (dropout): Dropout(p=0.1, inplace=False)\n",
       "            )\n",
       "          )\n",
       "          (intermediate): ElectraIntermediate(\n",
       "            (dense): Linear(in_features=768, out_features=3072, bias=True)\n",
       "          )\n",
       "          (output): ElectraOutput(\n",
       "            (dense): Linear(in_features=3072, out_features=768, bias=True)\n",
       "            (LayerNorm): LayerNorm((768,), eps=1e-12, elementwise_affine=True)\n",
       "            (dropout): Dropout(p=0.1, inplace=False)\n",
       "          )\n",
       "        )\n",
       "      )\n",
       "    )\n",
       "  )\n",
       "  (classifier): ElectraClassificationHead(\n",
       "    (dense): Linear(in_features=768, out_features=768, bias=True)\n",
       "    (dropout): Dropout(p=0.1, inplace=False)\n",
       "    (out_proj): Linear(in_features=768, out_features=2, bias=True)\n",
       "  )\n",
       ")"
      ]
     },
     "execution_count": 70,
     "metadata": {},
     "output_type": "execute_result"
    }
   ],
   "source": [
    "model"
   ]
  },
  {
   "cell_type": "code",
   "execution_count": null,
   "id": "d546c428-0277-40a1-aa87-e0c8df75cbb1",
   "metadata": {},
   "outputs": [],
   "source": [
    "from torch.utils.data import DataLoader\n",
    "from transformers import ElectraTokenizer, ElectraForSequenceClassification\n",
    "\n",
    "\n",
    "\n",
    "MODEL_NAME = \"monologg/koelectra-base-v3-discriminator\"\n",
    "tokenizer = ElectraTokenizer.from_pretrained(MODEL_NAME)\n",
    "# load test datset\n",
    "test_dataset_dir = \"/opt/ml/input/data/test/test.tsv\"\n",
    "test_dataset, test_label = load_test_dataset(test_dataset_dir, tokenizer)\n",
    "test_dataset = RE_Dataset(test_dataset ,test_label)\n",
    "\n",
    "\n",
    "# load my model\n",
    "model_dir = \"./my_BEST/maxlength_200_KoElectra_zero50%/step5500\"\n",
    "MODEL_NAME = model_dir # model dir.\n",
    "# bert\n",
    "#model = BertForSequenceClassification.from_pretrained(args.model_dir)\n",
    "# electra\n",
    "model = ElectraForSequenceClassification.from_pretrained(model_dir)\n",
    "# model.parameters\n",
    "model.to(device)\n",
    "\n",
    "dataloader = DataLoader(tokenized_sent, batch_size=40, shuffle=False)\n",
    "model.eval()\n",
    "output_pred = []\n",
    "output_logit = np.array([])\n",
    "\n",
    "for i, data in enumerate(dataloader):\n",
    "    with torch.no_grad():\n",
    "        outputs = model(\n",
    "            input_ids=data['input_ids'].to(device),\n",
    "            attention_mask=data['attention_mask'].to(device),\n",
    "            token_type_ids=data['token_type_ids'].to(device)\n",
    "        )\n",
    "    logits = outputs[0]\n",
    "    logits = logits.detach().cpu().numpy()\n",
    "    result = np.argmax(logits, axis=-1)\n",
    "\n",
    "    output_pred.append(result)\n",
    "    output_logit.append(logits[0])\n",
    "# print(len(output_logit), len(output_logit[0]))\n",
    "return np.array(output_pred).flatten(), output_logit"
   ]
  }
 ],
 "metadata": {
  "kernelspec": {
   "display_name": "Python 3",
   "language": "python",
   "name": "python3"
  },
  "language_info": {
   "codemirror_mode": {
    "name": "ipython",
    "version": 3
   },
   "file_extension": ".py",
   "mimetype": "text/x-python",
   "name": "python",
   "nbconvert_exporter": "python",
   "pygments_lexer": "ipython3",
   "version": "3.7.7"
  }
 },
 "nbformat": 4,
 "nbformat_minor": 5
}
